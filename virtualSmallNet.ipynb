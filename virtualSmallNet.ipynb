{
 "cells": [
  {
   "cell_type": "code",
   "execution_count": 33,
   "id": "c5778919-58c7-46a5-b380-29fff73f9ecc",
   "metadata": {},
   "outputs": [],
   "source": [
    "import numpy as np\n",
    "import pandas as pd\n",
    "import matplotlib.pyplot as plt\n",
    "from neuron import h\n",
    "import os\n",
    "import json"
   ]
  },
  {
   "cell_type": "markdown",
   "id": "9e47096d-42b1-4058-82f6-ee2d45dcaa14",
   "metadata": {},
   "source": [
    "### get the synapses, cell, and synapse sources:"
   ]
  },
  {
   "cell_type": "code",
   "execution_count": 26,
   "id": "d5be6299-5a7c-4213-bd03-19a89322fd80",
   "metadata": {},
   "outputs": [],
   "source": [
    "synProps = pd.read_csv('TargetPropsDF.csv')\n",
    "ETs = np.loadtxt('ETs.txt')"
   ]
  },
  {
   "cell_type": "code",
   "execution_count": 12,
   "id": "cee9beb3-7aef-4ea9-bca2-98ca09cef9ac",
   "metadata": {},
   "outputs": [],
   "source": [
    "h.load_file('stdrun.hoc')\n",
    "#h.nrn_load_dll(os.path.join(\"biophys_components\",\"mechanisms\",\"modfiles\",\"nrnmech.dll\"))\n",
    "h.nrn_load_dll(os.path.join(\"biophys_components\",\"mechanisms\",\"modfiles\",\"x86_64\",\".libs\",\"libnrnmech.so\"))\n",
    "#fileList = ['class_pyramidalcell_original_modified.hoc','class_axoaxoniccell.hoc']\n",
    "fileList = ['class_pyramidalcell.hoc','class_axoaxoniccell.hoc']\n",
    "#fileList = ['class_pyramidalcell.hoc']\n",
    "#for each file, load it into the hoc interpreter so it can be accessed\n",
    "for item in fileList:\n",
    "    h.load_file(os.path.join(\"biophys_components/templates/\",item))\n",
    "callNames = [\"h.\" + fileList[i].split('_')[1].split('.')[0] + \"()\" for i in range(len(fileList))]\n",
    "callNames.sort()"
   ]
  },
  {
   "cell_type": "code",
   "execution_count": 13,
   "id": "1c8f1145-5a9b-4e5c-adeb-76a7431e713b",
   "metadata": {},
   "outputs": [
    {
     "data": {
      "text/plain": [
       "['h.axoaxoniccell()', 'h.pyramidalcell()']"
      ]
     },
     "execution_count": 13,
     "metadata": {},
     "output_type": "execute_result"
    }
   ],
   "source": [
    "callNames"
   ]
  },
  {
   "cell_type": "code",
   "execution_count": 14,
   "id": "f2c24a1e-4ce5-4182-bba9-5bbf16a1c23b",
   "metadata": {},
   "outputs": [],
   "source": [
    "myCell = h.pyramidalcell()"
   ]
  },
  {
   "cell_type": "code",
   "execution_count": 28,
   "id": "5778fc03-dc37-4697-aabf-872357c00d1b",
   "metadata": {},
   "outputs": [],
   "source": [
    "srcTimes = []\n",
    "for item in ETs:\n",
    "    srcTimes.append(h.Vector(item[item!=0]))"
   ]
  },
  {
   "cell_type": "code",
   "execution_count": 30,
   "id": "e0d65a5f-b8ba-4d86-b32a-03ae76d6c28f",
   "metadata": {},
   "outputs": [
    {
     "data": {
      "text/plain": [
       "'AAC in SO layer'"
      ]
     },
     "execution_count": 30,
     "metadata": {},
     "output_type": "execute_result"
    }
   ],
   "source": [
    "synProps['source_type'][0]"
   ]
  },
  {
   "cell_type": "code",
   "execution_count": 31,
   "id": "20f72413-8baa-42a4-99eb-cfb45e4da485",
   "metadata": {},
   "outputs": [],
   "source": [
    "synTypes = os.listdir(os.path.join('biophys_components','synaptic_models'))"
   ]
  },
  {
   "cell_type": "code",
   "execution_count": 44,
   "id": "69563610-e2c9-45d7-a606-a5eecfa85c2d",
   "metadata": {},
   "outputs": [],
   "source": [
    "sources = ['AAC', 'Pyr', 'PV', 'Pyr', 'PV', 'PV', 'OLM', 'OLM','OLM','OLM', 'Pyr']\n",
    "targets = ['Pyr', 'AAC', 'Pyr','PV',  'AAC','PV', 'Pyr', 'AAC','PV', 'OLM', 'OLM']\n",
    "synFileName = ['CHN2PN.json', 'PN2CHN.json', 'PV2PN.json', 'PN2PV.json', 'PV2CHN.json','PV2PV.json','OLM2PN.json','OLM2CHN.json','OLM2PV.json','OLM2OLM.json','PN2OLM.json']"
   ]
  },
  {
   "cell_type": "code",
   "execution_count": 46,
   "id": "196b0b89-a4ad-4822-9c34-4c3479aaaf3c",
   "metadata": {},
   "outputs": [],
   "source": [
    "source_target_map = pd.DataFrame({\"sources\":sources,\"targets\":targets,\"fileName\":synFileName})"
   ]
  },
  {
   "cell_type": "code",
   "execution_count": null,
   "id": "aa644b18-7c23-49b6-a3e4-a9ceefafada5",
   "metadata": {},
   "outputs": [],
   "source": []
  },
  {
   "cell_type": "code",
   "execution_count": 37,
   "id": "ff4fd768-332f-4c4c-a777-ba0a78d71b2a",
   "metadata": {},
   "outputs": [
    {
     "data": {
      "text/plain": [
       "{'level_of_detail': 'pv2pv',\n",
       " 'AlphaTmax_gaba': '1.52',\n",
       " 'Beta_gaba': '0.14',\n",
       " 'Cdur_gaba': '0.7254',\n",
       " 'gbar_gaba': '0.006',\n",
       " 'Erev_gaba': '-70',\n",
       " 'initW': '1',\n",
       " 'initW_lognormal_mean': 1.0,\n",
       " 'initW_lognormal_std': 0.3,\n",
       " 'Wmax': '20',\n",
       " 'Wmin': '0.25',\n",
       " 'delay': '0.8',\n",
       " 'con_pattern': '1',\n",
       " 'lambda1': '1',\n",
       " 'lambda2': '0.01',\n",
       " 'threshold1': '0.5',\n",
       " 'threshold2': '0.6',\n",
       " 'tauD1': '40',\n",
       " 'd1': '0.95',\n",
       " 'tauD2': '70',\n",
       " 'd2': '0.9',\n",
       " 'tauF': '20',\n",
       " 'f': '0'}"
      ]
     },
     "execution_count": 37,
     "metadata": {},
     "output_type": "execute_result"
    }
   ],
   "source": [
    "f = open(os.path.join('biophys_components','synaptic_models',synTypes[0]))\n",
    "json.load(f)"
   ]
  },
  {
   "cell_type": "code",
   "execution_count": 69,
   "id": "7ce415c7-ab9c-49c4-8ad9-2f26e628aa84",
   "metadata": {},
   "outputs": [],
   "source": [
    "fnames = []\n",
    "for item in synProps['source_type']:\n",
    "    fnames.append(source_target_map['fileName'][source_target_map['sources'][source_target_map['sources'] ==item.split(' ')[0]].index[0]])#get the json file name for the given src->target\n",
    "    "
   ]
  },
  {
   "cell_type": "code",
   "execution_count": 89,
   "id": "f99af93c-a5f0-40b3-ab1b-d0a93bd41832",
   "metadata": {},
   "outputs": [
    {
     "data": {
      "text/plain": [
       "chn2pyr()"
      ]
     },
     "execution_count": 89,
     "metadata": {},
     "output_type": "execute_result"
    }
   ],
   "source": [
    "eval('h.'+syn[fnames[0]]['level_of_detail']+'(Pyr.axon[6](0.5))')"
   ]
  },
  {
   "cell_type": "code",
   "execution_count": 148,
   "id": "c7c8b83f-43a9-4510-8a5d-707fe8761bef",
   "metadata": {},
   "outputs": [
    {
     "name": "stdout",
     "output_type": "stream",
     "text": [
      "h.chn2pyr(myCell.axon[6](0.5))\n",
      "h.chn2pyr(myCell.axon[6](0.5))\n",
      "h.chn2pyr(myCell.axon[6](0.5))\n",
      "h.chn2pyr(myCell.axon[6](0.5))\n",
      "h.chn2pyr(myCell.axon[6](0.5))\n",
      "h.chn2pyr(myCell.axon[6](0.5))\n",
      "h.chn2pyr(myCell.axon[6](0.5))\n",
      "h.chn2pyr(myCell.axon[6](0.5))\n",
      "h.chn2pyr(myCell.axon[6](0.5))\n",
      "h.chn2pyr(myCell.axon[6](0.5))\n",
      "h.chn2pyr(myCell.axon[6](0.5))\n",
      "h.chn2pyr(myCell.axon[6](0.5))\n",
      "h.chn2pyr(myCell.axon[6](0.5))\n",
      "h.chn2pyr(myCell.axon[6](0.5))\n",
      "h.chn2pyr(myCell.axon[6](0.5))\n",
      "h.chn2pyr(myCell.axon[6](0.5))\n",
      "h.chn2pyr(myCell.axon[6](0.5))\n",
      "h.chn2pyr(myCell.axon[6](0.5))\n",
      "h.chn2pyr(myCell.axon[6](0.5))\n",
      "h.chn2pyr(myCell.axon[6](0.5))\n",
      "h.chn2pyr(myCell.axon[6](0.5))\n",
      "h.chn2pyr(myCell.axon[6](0.5))\n",
      "h.chn2pyr(myCell.axon[6](0.5))\n",
      "h.chn2pyr(myCell.axon[6](0.5))\n",
      "h.chn2pyr(myCell.axon[6](0.5))\n",
      "h.chn2pyr(myCell.axon[6](0.5))\n",
      "h.pv2pyr(myCell.axon[0](0.5))\n"
     ]
    },
    {
     "ename": "AttributeError",
     "evalue": "'hoc.HocObject' object has no attribute 'pv2pyr'",
     "output_type": "error",
     "traceback": [
      "\u001b[0;31m---------------------------------------------------------------------------\u001b[0m",
      "\u001b[0;31mAttributeError\u001b[0m                            Traceback (most recent call last)",
      "\u001b[0;32m<ipython-input-148-d278e014f9db>\u001b[0m in \u001b[0;36m<module>\u001b[0;34m\u001b[0m\n\u001b[1;32m     11\u001b[0m     \u001b[0mparsed_cmd\u001b[0m \u001b[0;34m=\u001b[0m \u001b[0;34m'h.'\u001b[0m\u001b[0;34m+\u001b[0m\u001b[0mchname\u001b[0m\u001b[0;34m+\u001b[0m\u001b[0;34m'(myCell.axon['\u001b[0m\u001b[0;34m+\u001b[0m\u001b[0mstr\u001b[0m\u001b[0;34m(\u001b[0m\u001b[0mint\u001b[0m\u001b[0;34m(\u001b[0m\u001b[0mtargetsection\u001b[0m\u001b[0;34m)\u001b[0m\u001b[0;34m)\u001b[0m\u001b[0;34m+\u001b[0m\u001b[0;34m']'\u001b[0m\u001b[0;34m+\u001b[0m\u001b[0;34m'('\u001b[0m\u001b[0;34m+\u001b[0m\u001b[0mstr\u001b[0m\u001b[0;34m(\u001b[0m\u001b[0msec_id\u001b[0m\u001b[0;34m)\u001b[0m\u001b[0;34m+\u001b[0m\u001b[0;34m'))'\u001b[0m\u001b[0;34m\u001b[0m\u001b[0;34m\u001b[0m\u001b[0m\n\u001b[1;32m     12\u001b[0m     \u001b[0mprint\u001b[0m\u001b[0;34m(\u001b[0m\u001b[0mparsed_cmd\u001b[0m\u001b[0;34m)\u001b[0m\u001b[0;34m\u001b[0m\u001b[0;34m\u001b[0m\u001b[0m\n\u001b[0;32m---> 13\u001b[0;31m     \u001b[0msyns\u001b[0m\u001b[0;34m.\u001b[0m\u001b[0mappend\u001b[0m\u001b[0;34m(\u001b[0m\u001b[0meval\u001b[0m\u001b[0;34m(\u001b[0m\u001b[0mparsed_cmd\u001b[0m\u001b[0;34m)\u001b[0m\u001b[0;34m)\u001b[0m\u001b[0;34m\u001b[0m\u001b[0;34m\u001b[0m\u001b[0m\n\u001b[0m\u001b[1;32m     14\u001b[0m     \u001b[0;32mfor\u001b[0m \u001b[0mkey\u001b[0m \u001b[0;32min\u001b[0m \u001b[0msyns\u001b[0m\u001b[0;34m[\u001b[0m\u001b[0;36m0\u001b[0m\u001b[0;34m]\u001b[0m\u001b[0;34m.\u001b[0m\u001b[0m__dict__\u001b[0m\u001b[0;34m:\u001b[0m\u001b[0;34m\u001b[0m\u001b[0;34m\u001b[0m\u001b[0m\n\u001b[1;32m     15\u001b[0m \u001b[0;34m\u001b[0m\u001b[0m\n",
      "\u001b[0;32m<string>\u001b[0m in \u001b[0;36m<module>\u001b[0;34m\u001b[0m\n",
      "\u001b[0;31mAttributeError\u001b[0m: 'hoc.HocObject' object has no attribute 'pv2pyr'"
     ]
    }
   ],
   "source": [
    "i = 0\n",
    "syns = []\n",
    "syn = synapses.syn_params_dicts()\n",
    "\n",
    "for i in range(len(fnames)):\n",
    "    \n",
    "    chname = syn[fnames[i]]['level_of_detail']\n",
    "    targetsection = synProps['sec_id'].iloc[i]\n",
    "    sec_id = synProps['sec_x'].iloc[i]\n",
    "    syn_weight = synProps['syn_weight'].iloc[i]\n",
    "    parsed_cmd = 'h.'+chname+'(myCell.axon['+str(int(targetsection))+']'+'('+str(sec_id)+'))'\n",
    "    print(parsed_cmd)\n",
    "    syns.append(eval(parsed_cmd))\n",
    "    for key in syns[0].__dict__:\n",
    "\n",
    "        if key in syn[fnames[i]].keys():\n",
    "            key = syn[fnames[i]][key]"
   ]
  },
  {
   "cell_type": "code",
   "execution_count": null,
   "id": "443f0562-4d4f-4992-85de-81d211697a47",
   "metadata": {},
   "outputs": [],
   "source": [
    "syn[fnames[i]].keys()"
   ]
  },
  {
   "cell_type": "code",
   "execution_count": 136,
   "id": "e8d5c653-aa4e-4727-8d2b-b36db4f0feb8",
   "metadata": {},
   "outputs": [
    {
     "name": "stdout",
     "output_type": "stream",
     "text": [
      "0.7254\n",
      "1.52\n",
      "0.14\n",
      "-50\n",
      "0.006\n",
      "1\n",
      "0.01\n",
      "0.5\n",
      "0.6\n",
      "2\n",
      "0\n",
      "20\n",
      "0.95\n",
      "40\n",
      "0.9\n",
      "70\n",
      "20\n",
      "20\n"
     ]
    }
   ],
   "source": []
  },
  {
   "cell_type": "code",
   "execution_count": null,
   "id": "f0d18173-9062-4ff1-a93b-01942b77d95f",
   "metadata": {},
   "outputs": [],
   "source": []
  },
  {
   "cell_type": "code",
   "execution_count": 78,
   "id": "20664904-bf7a-4358-81e6-ce80860edef5",
   "metadata": {},
   "outputs": [
    {
     "data": {
      "text/plain": [
       "{'level_of_detail': 'chn2pyr',\n",
       " 'AlphaTmax_gaba': '1.52',\n",
       " 'Beta_gaba': '0.14',\n",
       " 'Cdur_gaba': '0.7254',\n",
       " 'gbar_gaba': '0.006',\n",
       " 'Erev_gaba': '-50',\n",
       " 'initW': '2',\n",
       " 'initW_lognormal_mean': 1.38,\n",
       " 'initW_lognormal_std': 0.5,\n",
       " 'Wmax': '20',\n",
       " 'Wmin': '20',\n",
       " 'delay': '0.8',\n",
       " 'con_pattern': '1',\n",
       " 'lambda1': '1',\n",
       " 'lambda2': '0.01',\n",
       " 'threshold1': '0.5',\n",
       " 'threshold2': '0.6',\n",
       " 'tauD1': '40',\n",
       " 'd1': '0.95',\n",
       " 'tauD2': '70',\n",
       " 'd2': '0.9',\n",
       " 'tauF': '20',\n",
       " 'f': '0'}"
      ]
     },
     "execution_count": 78,
     "metadata": {},
     "output_type": "execute_result"
    }
   ],
   "source": [
    "syn[fnames[0]]"
   ]
  },
  {
   "cell_type": "code",
   "execution_count": 74,
   "id": "7dd0cc71-7b14-4eb6-a3e7-80193c4b445e",
   "metadata": {},
   "outputs": [
    {
     "data": {
      "text/plain": [
       "'CHN2PN.json'"
      ]
     },
     "execution_count": 74,
     "metadata": {},
     "output_type": "execute_result"
    }
   ],
   "source": [
    "fnames[0]"
   ]
  },
  {
   "cell_type": "code",
   "execution_count": 70,
   "id": "7a61cb7c-8543-4d1c-ab71-a84e54a060fa",
   "metadata": {},
   "outputs": [
    {
     "data": {
      "text/plain": [
       "{'PV2PV.json': {'level_of_detail': 'pv2pv',\n",
       "  'AlphaTmax_gaba': '1.52',\n",
       "  'Beta_gaba': '0.14',\n",
       "  'Cdur_gaba': '0.7254',\n",
       "  'gbar_gaba': '0.006',\n",
       "  'Erev_gaba': '-70',\n",
       "  'initW': '1',\n",
       "  'initW_lognormal_mean': 1.0,\n",
       "  'initW_lognormal_std': 0.3,\n",
       "  'Wmax': '20',\n",
       "  'Wmin': '0.25',\n",
       "  'delay': '0.8',\n",
       "  'con_pattern': '1',\n",
       "  'lambda1': '1',\n",
       "  'lambda2': '0.01',\n",
       "  'threshold1': '0.5',\n",
       "  'threshold2': '0.6',\n",
       "  'tauD1': '40',\n",
       "  'd1': '0.95',\n",
       "  'tauD2': '70',\n",
       "  'd2': '0.9',\n",
       "  'tauF': '20',\n",
       "  'f': '0'},\n",
       " 'PV2PN.json': {'level_of_detail': 'pv2pyr',\n",
       "  'AlphaTmax_gaba': '1.52',\n",
       "  'Beta_gaba': '0.14',\n",
       "  'Cdur_gaba': '0.7254',\n",
       "  'gbar_gaba': '0.006',\n",
       "  'Erev_gaba': '-70',\n",
       "  'initW': '1',\n",
       "  'initW_lognormal_mean': 5,\n",
       "  'initW_lognormal_std': 0.3,\n",
       "  'Wmax': '25',\n",
       "  'Wmin': '0.25',\n",
       "  'delay': '0.8',\n",
       "  'con_pattern': '1',\n",
       "  'lambda1': '1',\n",
       "  'lambda2': '0.01',\n",
       "  'threshold1': '0.5',\n",
       "  'threshold2': '0.6',\n",
       "  'tauD1': '40',\n",
       "  'd1': '0.95',\n",
       "  'tauD2': '70',\n",
       "  'd2': '0.9',\n",
       "  'tauF': '20',\n",
       "  'f': '0'},\n",
       " 'PV2CHN.json': {'level_of_detail': 'pv2chn',\n",
       "  'AlphaTmax_gaba': '1.52',\n",
       "  'Beta_gaba': '0.14',\n",
       "  'Cdur_gaba': '0.7254',\n",
       "  'gbar_gaba': '0.006',\n",
       "  'Erev_gaba': '-70',\n",
       "  'initW': '1',\n",
       "  'initW_lognormal_mean': 1.5,\n",
       "  'initW_lognormal_std': 0.5,\n",
       "  'Wmax': '20',\n",
       "  'Wmin': '0.25',\n",
       "  'delay': '0.8',\n",
       "  'con_pattern': '1',\n",
       "  'lambda1': '1',\n",
       "  'lambda2': '0.01',\n",
       "  'threshold1': '0.5',\n",
       "  'threshold2': '0.6',\n",
       "  'tauD1': '40',\n",
       "  'd1': '0.95',\n",
       "  'tauD2': '70',\n",
       "  'd2': '0.9',\n",
       "  'tauF': '20',\n",
       "  'f': '0'},\n",
       " 'PN2PV.json': {'level_of_detail': 'pyr2pv',\n",
       "  'AlphaTmax_ampa': '10.1571',\n",
       "  'Beta_ampa': '0.4167',\n",
       "  'Cdur_ampa': '0.713',\n",
       "  'gbar_ampa': '0.001',\n",
       "  'Erev_ampa': '0',\n",
       "  'AlphaTmax_nmda': '0.2659',\n",
       "  'Beta_nmda': '0.008',\n",
       "  'Cdur_nmda': '16.7650',\n",
       "  'gbar_nmda': '0.0005',\n",
       "  'Erev_nmda': '0',\n",
       "  'initW': '1',\n",
       "  'initW_lognormal_mean': 2.5,\n",
       "  'initW_lognormal_std': 0.5,\n",
       "  'Wmax': '25',\n",
       "  'Wmin': '0.25',\n",
       "  'delay': '0.8',\n",
       "  'con_pattern': '1',\n",
       "  'lambda1': '8',\n",
       "  'lambda2': '0.01',\n",
       "  'threshold1': '0.35',\n",
       "  'threshold2': '0.4',\n",
       "  'tauD1': '40',\n",
       "  'd1': '0.95',\n",
       "  'tauD2': '70',\n",
       "  'd2': '0.9',\n",
       "  'tauF': '45',\n",
       "  'f': '1',\n",
       "  'bACH': '0',\n",
       "  'aDA': '1',\n",
       "  'bDA': '0',\n",
       "  'wACH': '0',\n",
       "  'ratio': '0.05',\n",
       "  'gaussa': '0'},\n",
       " 'PN2OLM.json': {'level_of_detail': 'pyr2olm',\n",
       "  'AlphaTmax_ampa': '10.1571',\n",
       "  'Beta_ampa': '0.4167',\n",
       "  'Cdur_ampa': '0.713',\n",
       "  'gbar_ampa': '0.001',\n",
       "  'Erev_ampa': '0',\n",
       "  'AlphaTmax_nmda': '0.2659',\n",
       "  'Beta_nmda': '0.008',\n",
       "  'Cdur_nmda': '16.7650',\n",
       "  'gbar_nmda': '0.0005',\n",
       "  'Erev_nmda': '0',\n",
       "  'initW': '1',\n",
       "  'initW_lognormal_mean': 0.5,\n",
       "  'initW_lognormal_std': 0.1,\n",
       "  'Wmax': '25',\n",
       "  'Wmin': '0.25',\n",
       "  'delay': '0.8',\n",
       "  'con_pattern': '1',\n",
       "  'lambda1': '8',\n",
       "  'lambda2': '0.01',\n",
       "  'threshold1': '0.000001',\n",
       "  'threshold2': '4',\n",
       "  'tauD1': '40',\n",
       "  'd1': '0.95',\n",
       "  'tauD2': '70',\n",
       "  'd2': '0.9',\n",
       "  'tauF': '45',\n",
       "  'f': '1',\n",
       "  'bACH': '0',\n",
       "  'aDA': '1',\n",
       "  'bDA': '0',\n",
       "  'wACH': '0',\n",
       "  'ratio': '0.05',\n",
       "  'gaussa': '0'},\n",
       " 'PN2CHN.json': {'level_of_detail': 'pyr2chn',\n",
       "  'AlphaTmax_ampa': '10.1571',\n",
       "  'Beta_ampa': '0.4167',\n",
       "  'Cdur_ampa': '0.713',\n",
       "  'gbar_ampa': '0.001',\n",
       "  'Erev_ampa': '0',\n",
       "  'AlphaTmax_nmda': '0.2659',\n",
       "  'Beta_nmda': '0.008',\n",
       "  'Cdur_nmda': '16.7650',\n",
       "  'gbar_nmda': '0.0005',\n",
       "  'Erev_nmda': '0',\n",
       "  'initW': '1',\n",
       "  'initW_lognormal_mean': 5,\n",
       "  'initW_lognormal_std': 1.2,\n",
       "  'Wmax': '25',\n",
       "  'Wmin': '0.25',\n",
       "  'delay': '0.8',\n",
       "  'con_pattern': '1',\n",
       "  'lambda1': '8',\n",
       "  'lambda2': '0.01',\n",
       "  'threshold1': '0.35',\n",
       "  'threshold2': '0.4',\n",
       "  'tauD1': '40',\n",
       "  'd1': '0.95',\n",
       "  'tauD2': '70',\n",
       "  'd2': '0.9',\n",
       "  'tauF': '45',\n",
       "  'f': '1',\n",
       "  'bACH': '0',\n",
       "  'aDA': '1',\n",
       "  'bDA': '0',\n",
       "  'wACH': '0',\n",
       "  'ratio': '0.05',\n",
       "  'gaussa': '0'},\n",
       " 'OLM2PV.json': {'level_of_detail': 'olm2pv',\n",
       "  'AlphaTmax_gaba': '1.52',\n",
       "  'Beta_gaba': '0.14',\n",
       "  'Cdur_gaba': '0.7254',\n",
       "  'gbar_gaba': '0.006',\n",
       "  'Erev_gaba': '-80',\n",
       "  'initW': '1',\n",
       "  'initW_lognormal_mean': 0.5,\n",
       "  'initW_lognormal_std': 0.2,\n",
       "  'Wmax': '20',\n",
       "  'Wmin': '0.25',\n",
       "  'delay': '0.8',\n",
       "  'con_pattern': '1',\n",
       "  'lambda1': '1',\n",
       "  'lambda2': '0.01',\n",
       "  'threshold1': '0.5',\n",
       "  'threshold2': '0.6',\n",
       "  'tauD1': '40',\n",
       "  'd1': '0.95',\n",
       "  'tauD2': '70',\n",
       "  'd2': '0.9',\n",
       "  'tauF': '20',\n",
       "  'f': '0'},\n",
       " 'OLM2PN.json': {'level_of_detail': 'olm2pyr',\n",
       "  'AlphaTmax_gaba': '1.52',\n",
       "  'Beta_gaba': '0.14',\n",
       "  'Cdur_gaba': '0.7254',\n",
       "  'gbar_gaba': '0.006',\n",
       "  'Erev_gaba': '-70',\n",
       "  'initW': '1',\n",
       "  'initW_lognormal_mean': 0.6,\n",
       "  'initW_lognormal_std': 0.3,\n",
       "  'Wmax': '25',\n",
       "  'Wmin': '0.25',\n",
       "  'delay': '0.8',\n",
       "  'con_pattern': '1',\n",
       "  'lambda1': '1',\n",
       "  'lambda2': '0.01',\n",
       "  'threshold1': '0.5',\n",
       "  'threshold2': '0.6',\n",
       "  'tauD1': '40',\n",
       "  'd1': '0.95',\n",
       "  'tauD2': '70',\n",
       "  'd2': '0.9',\n",
       "  'tauF': '20',\n",
       "  'f': '0'},\n",
       " 'OLM2OLM.json': {'level_of_detail': 'olm2olm',\n",
       "  'AlphaTmax_gaba': '1.52',\n",
       "  'Beta_gaba': '0.14',\n",
       "  'Cdur_gaba': '0.7254',\n",
       "  'gbar_gaba': '0.006',\n",
       "  'Erev_gaba': '-80',\n",
       "  'initW': '1',\n",
       "  'initW_lognormal_mean': 10,\n",
       "  'initW_lognormal_std': 0.5,\n",
       "  'Wmax': '20',\n",
       "  'Wmin': '0.25',\n",
       "  'delay': '0.8',\n",
       "  'con_pattern': '1',\n",
       "  'lambda1': '1',\n",
       "  'lambda2': '0.01',\n",
       "  'threshold1': '0.000001',\n",
       "  'threshold2': '60',\n",
       "  'tauD1': '40',\n",
       "  'd1': '0.95',\n",
       "  'tauD2': '70',\n",
       "  'd2': '0.9',\n",
       "  'tauF': '20',\n",
       "  'f': '0'},\n",
       " 'OLM2CHN.json': {'level_of_detail': 'olm2chn',\n",
       "  'AlphaTmax_gaba': '1.52',\n",
       "  'Beta_gaba': '0.14',\n",
       "  'Cdur_gaba': '0.7254',\n",
       "  'gbar_gaba': '0.006',\n",
       "  'Erev_gaba': '-70',\n",
       "  'initW': '1',\n",
       "  'initW_lognormal_mean': 2.5,\n",
       "  'initW_lognormal_std': 0.3,\n",
       "  'Wmax': '20',\n",
       "  'Wmin': '0.25',\n",
       "  'delay': '0.8',\n",
       "  'con_pattern': '1',\n",
       "  'lambda1': '1',\n",
       "  'lambda2': '0.01',\n",
       "  'threshold1': '0.5',\n",
       "  'threshold2': '0.6',\n",
       "  'tauD1': '40',\n",
       "  'd1': '0.95',\n",
       "  'tauD2': '70',\n",
       "  'd2': '0.9',\n",
       "  'tauF': '20',\n",
       "  'f': '0'},\n",
       " 'AMPA_ExcToExc.json': {'level_of_detail': 'exp2syn',\n",
       "  'tau1': 1.0,\n",
       "  'tau2': 3.0,\n",
       "  'erev': 0.0},\n",
       " 'AMPA_ExcToInh.json': {'level_of_detail': 'exp2syn',\n",
       "  'tau1': 0.1,\n",
       "  'tau2': 0.5,\n",
       "  'erev': 0.0},\n",
       " 'GABA_InhToExc.json': {'level_of_detail': 'exp2syn',\n",
       "  'tau1': 2.7,\n",
       "  'tau2': 15.0,\n",
       "  'erev': -70.0},\n",
       " 'GABA_InhToInh.json': {'level_of_detail': 'exp2syn',\n",
       "  'tau1': 0.2,\n",
       "  'tau2': 8.0,\n",
       "  'erev': -70.0},\n",
       " 'instantaneousExc.json': {'level_of_detail': 'instantaneous', 'sign': 1},\n",
       " 'instantaneousInh.json': {'level_of_detail': 'instantaneous', 'sign': -1},\n",
       " 'CHN2PN.json': {'level_of_detail': 'chn2pyr',\n",
       "  'AlphaTmax_gaba': '1.52',\n",
       "  'Beta_gaba': '0.14',\n",
       "  'Cdur_gaba': '0.7254',\n",
       "  'gbar_gaba': '0.006',\n",
       "  'Erev_gaba': '-50',\n",
       "  'initW': '2',\n",
       "  'initW_lognormal_mean': 1.38,\n",
       "  'initW_lognormal_std': 0.5,\n",
       "  'Wmax': '20',\n",
       "  'Wmin': '20',\n",
       "  'delay': '0.8',\n",
       "  'con_pattern': '1',\n",
       "  'lambda1': '1',\n",
       "  'lambda2': '0.01',\n",
       "  'threshold1': '0.5',\n",
       "  'threshold2': '0.6',\n",
       "  'tauD1': '40',\n",
       "  'd1': '0.95',\n",
       "  'tauD2': '70',\n",
       "  'd2': '0.9',\n",
       "  'tauF': '20',\n",
       "  'f': '0'},\n",
       " 'PN2OLMV2.json': {'level_of_detail': 'exp2syn',\n",
       "  'tau1': 0.2,\n",
       "  'tau2': 8.0,\n",
       "  'erev': -70.0,\n",
       "  'W_lognormal_mean': 1.5,\n",
       "  'W_lognormal_std': 0.1}}"
      ]
     },
     "execution_count": 70,
     "metadata": {},
     "output_type": "execute_result"
    }
   ],
   "source": [
    "\n",
    "                     connection_rule=n_connections,\n",
    "                     connection_params={'prob': conParams[0], 'max_dist': conParams[1]},  \n",
    "                     delay=0.8,\n",
    "                     syn_weight = syn[dynamics_name]['initW_lognormal_mean'],#syn[dynamics_name]['initW_lognormal_mean'],\n",
    "                     dynamics_params=dynamics_name,\n",
    "                     model_template=syn[dynamics_name]['level_of_detail'],\n",
    "                     distance_range=dist_range,\n",
    "                     target_sections=[secName],\n",
    "                     sec_id = secID,  # check and is working putting syn on right location\n",
    "                     sec_x = secx)"
   ]
  }
 ],
 "metadata": {
  "kernelspec": {
   "display_name": "Python 3",
   "language": "python",
   "name": "python3"
  },
  "language_info": {
   "codemirror_mode": {
    "name": "ipython",
    "version": 3
   },
   "file_extension": ".py",
   "mimetype": "text/x-python",
   "name": "python",
   "nbconvert_exporter": "python",
   "pygments_lexer": "ipython3",
   "version": "3.6.8"
  }
 },
 "nbformat": 4,
 "nbformat_minor": 5
}
