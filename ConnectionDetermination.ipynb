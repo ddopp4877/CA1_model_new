{
 "cells": [
  {
   "cell_type": "code",
   "execution_count": 1,
   "id": "f51ee4d8-f16b-42d5-b5b2-f3f3c2f7dc3b",
   "metadata": {},
   "outputs": [],
   "source": [
    "# set of function for choosing the connection probability to give to bmtk"
   ]
  },
  {
   "cell_type": "code",
   "execution_count": 2,
   "id": "9304ceba-bf47-4b80-9d4d-49f150af0aa0",
   "metadata": {},
   "outputs": [],
   "source": [
    "import h5py\n",
    "import os\n",
    "import matplotlib.pyplot as plt\n",
    "import numpy as np\n",
    "import pandas as pd\n",
    "#import mplcursors\n",
    "#import mpld3\n",
    "\n",
    "\n",
    "def SaveDataToDF(f):\n",
    "    myData = []\n",
    "    myDataNames = []\n",
    "    def saveDat(item):\n",
    "        if 'Data' in str(f[item].id):\n",
    "            data2use = f[item][()]\n",
    "            if data2use.ndim == 2:#some groups have multiple columns and this messes up the translation to a df at the end of this function\n",
    "                [a,b] = data2use.shape\n",
    "                for col in np.arange(0,b):\n",
    "                    myData.append(data2use[:,col])\n",
    "                    dataName = (f[item].name).split('/')[-1] + str(col)\n",
    "                    myDataNames.append(dataName)\n",
    "            else:\n",
    "                myData.append(f[item][()])\n",
    "                dataName = (f[item].name).split('/')[-1]\n",
    "                myDataNames.append(dataName)\n",
    "        \n",
    "    f.visit(saveDat)\n",
    "    allData = pd.DataFrame(myData).T\n",
    "    allData.columns = myDataNames\n",
    "    f.close()\n",
    "    return allData"
   ]
  },
  {
   "cell_type": "code",
   "execution_count": 5,
   "id": "6605d40d-a48a-493a-bb92-97c4da99910d",
   "metadata": {},
   "outputs": [],
   "source": [
    "f = h5py.File(os.path.join('network','biophysical_nodes.h5'), 'r')\n",
    "nodesDF = SaveDataToDF(f)\n",
    "cellLocations = pd.read_csv('cell_locations.csv')#this was for the old build, i'm just reading it instead of writing the list coz lazy\n",
    "idNames = np.unique(nodesDF['node_type_id'])\n",
    "cellNames = np.unique(cellLocations['Cell type'])\n",
    "array = cellLocations['Cell type']\n",
    "idxs = np.unique(cellLocations['Cell type'],return_index=True)[1]\n",
    "cellNames = [array[index] for index in sorted(idxs)]#use the names in the order in which the id's appear\n",
    "\n",
    "nodesDF = nodesDF.replace({'node_type_id':idNames},{'node_type_id':cellNames})"
   ]
  },
  {
   "cell_type": "code",
   "execution_count": null,
   "id": "acb8fa61-eb80-4fb0-a150-4fad69706354",
   "metadata": {},
   "outputs": [],
   "source": [
    "def get_conn_probs_V2(nodesDF,src,trgt,convergence,max_dist):\n",
    "    srcs = nodesDF[nodesDF['node_type_id'].str.contains(src)]\n",
    "    trgts = nodesDF[nodesDF['node_type_id'].str.contains(trgt)]\n",
    "\n",
    "    xs = srcs['positions0']\n",
    "    ys = srcs['positions1']\n",
    "    zs = srcs['positions2']\n",
    "\n",
    "    all_src_positions = np.vstack((xs,ys,zs)).T\n",
    "\n",
    "\n",
    "    xs = trgts['positions0']\n",
    "    ys = trgts['positions1']\n",
    "    zs = trgts['positions2']\n",
    "\n",
    "    all_trgt_positions = np.vstack((xs,ys,zs)).T\n",
    "\n",
    "\n",
    "    squared_distances = np.sum((all_src_positions[:, np.newaxis, :] - all_trgt_positions) ** 2, axis=2)\n",
    "    euclidean_distances = np.sqrt(squared_distances)\n",
    "    \n",
    "    \n",
    "    \n",
    "    collect = []\n",
    "    for i in range(euclidean_distances.shape[1]):\n",
    "        possible_srcs = np.where(euclidean_distances[:,i] <= max_dist)[0]\n",
    "        connection_probability = convergence / len(possible_srcs)\n",
    "        collect.append(connection_probability)\n",
    "    return np.mean(collect)"
   ]
  },
  {
   "cell_type": "code",
   "execution_count": 9,
   "id": "e936dbe0-f0a6-406f-b5a2-1f6b414b0652",
   "metadata": {},
   "outputs": [],
   "source": [
    "from scipy.stats import norm\n",
    "\n",
    "max_distance = 400\n",
    "\n",
    "def make_lookup(mean,std_dev,pmax ):\n",
    "    x = np.arange((-1)*max_distance,max_distance)\n",
    "    pdf_values = norm.pdf(x, loc=mean, scale=std_dev)\n",
    "    scaled_pdf_values = pdf_values * (pmax / np.max(pdf_values))\n",
    "    scaled_pdf_values = scaled_pdf_values[max_distance:]\n",
    "    pdf_lookup = pd.DataFrame(scaled_pdf_values)\n",
    "    return pdf_lookup\n",
    "\n",
    "i2e_lookup = make_lookup(0,96.6,0.15)\n",
    "e2i_lookup = make_lookup(0,99.84,0.12)\n",
    "i2i_lookup = make_lookup(0,126.77,0.12)"
   ]
  },
  {
   "cell_type": "code",
   "execution_count": null,
   "id": "eec34227-ab8b-4f50-afc5-22bfbd4452ee",
   "metadata": {},
   "outputs": [],
   "source": [
    "#I want a conn prob of pdf_values = norm.pdf(x, loc=mean, scale=std_dev) such that for x of size N, np.random.uniform() <= conn prob occurs a convergence number of times"
   ]
  },
  {
   "cell_type": "code",
   "execution_count": 25,
   "id": "1f212acd-fa6a-4877-a532-715afedcde40",
   "metadata": {},
   "outputs": [],
   "source": [
    "from scipy import stats\n",
    "from scipy.optimize import minimize\n",
    "\n",
    "# Define the negative log-likelihood function\n",
    "def neg_log_likelihood(params, data, dist):\n",
    "    # Set the parameters of the distribution object\n",
    "    dist_params = dist.fit(data, floc=0)  # Use 0 as the location parameter for simplicity\n",
    "\n",
    "    # Set the fitted parameters\n",
    "    dist_params[:-2] = params\n",
    "\n",
    "    # Calculate the negative log-likelihood\n",
    "    neg_log_likelihood = -np.sum(dist.logpdf(data, *dist_params))\n",
    "\n",
    "    return neg_log_likelihood\n",
    "\n"
   ]
  },
  {
   "cell_type": "code",
   "execution_count": 26,
   "id": "63151d7d-5fdf-45cc-aaa0-b0de2d5b31ea",
   "metadata": {},
   "outputs": [],
   "source": [
    "# Generate some example data from a specific distribution\n",
    "data = stats.norm.rvs(loc=0, scale=1, size=100)\n",
    "\n",
    "# Define the distribution you want to fit\n",
    "dist = stats.norm\n",
    "\n",
    "\n"
   ]
  },
  {
   "cell_type": "code",
   "execution_count": 27,
   "id": "7e719000-e267-452a-bcb6-1012e8536b9a",
   "metadata": {},
   "outputs": [
    {
     "ename": "TypeError",
     "evalue": "'tuple' object does not support item assignment",
     "output_type": "error",
     "traceback": [
      "\u001b[0;31m---------------------------------------------------------------------------\u001b[0m",
      "\u001b[0;31mTypeError\u001b[0m                                 Traceback (most recent call last)",
      "\u001b[0;32m<ipython-input-27-ae3ed52fcc9e>\u001b[0m in \u001b[0;36m<module>\u001b[0;34m\u001b[0m\n\u001b[1;32m      3\u001b[0m \u001b[0;34m\u001b[0m\u001b[0m\n\u001b[1;32m      4\u001b[0m \u001b[0;31m# Perform MLE using scipy.optimize.minimize\u001b[0m\u001b[0;34m\u001b[0m\u001b[0;34m\u001b[0m\u001b[0;34m\u001b[0m\u001b[0m\n\u001b[0;32m----> 5\u001b[0;31m \u001b[0mresult\u001b[0m \u001b[0;34m=\u001b[0m \u001b[0mminimize\u001b[0m\u001b[0;34m(\u001b[0m\u001b[0mneg_log_likelihood\u001b[0m\u001b[0;34m,\u001b[0m \u001b[0minitial_params\u001b[0m\u001b[0;34m,\u001b[0m \u001b[0margs\u001b[0m\u001b[0;34m=\u001b[0m\u001b[0;34m(\u001b[0m\u001b[0mdata\u001b[0m\u001b[0;34m,\u001b[0m \u001b[0mdist\u001b[0m\u001b[0;34m)\u001b[0m\u001b[0;34m)\u001b[0m\u001b[0;34m\u001b[0m\u001b[0;34m\u001b[0m\u001b[0m\n\u001b[0m",
      "\u001b[0;32m~/CA1_model/CA1_model_env/lib64/python3.6/site-packages/scipy/optimize/_minimize.py\u001b[0m in \u001b[0;36mminimize\u001b[0;34m(fun, x0, args, method, jac, hess, hessp, bounds, constraints, tol, callback, options)\u001b[0m\n\u001b[1;32m    610\u001b[0m         \u001b[0;32mreturn\u001b[0m \u001b[0m_minimize_cg\u001b[0m\u001b[0;34m(\u001b[0m\u001b[0mfun\u001b[0m\u001b[0;34m,\u001b[0m \u001b[0mx0\u001b[0m\u001b[0;34m,\u001b[0m \u001b[0margs\u001b[0m\u001b[0;34m,\u001b[0m \u001b[0mjac\u001b[0m\u001b[0;34m,\u001b[0m \u001b[0mcallback\u001b[0m\u001b[0;34m,\u001b[0m \u001b[0;34m**\u001b[0m\u001b[0moptions\u001b[0m\u001b[0;34m)\u001b[0m\u001b[0;34m\u001b[0m\u001b[0;34m\u001b[0m\u001b[0m\n\u001b[1;32m    611\u001b[0m     \u001b[0;32melif\u001b[0m \u001b[0mmeth\u001b[0m \u001b[0;34m==\u001b[0m \u001b[0;34m'bfgs'\u001b[0m\u001b[0;34m:\u001b[0m\u001b[0;34m\u001b[0m\u001b[0;34m\u001b[0m\u001b[0m\n\u001b[0;32m--> 612\u001b[0;31m         \u001b[0;32mreturn\u001b[0m \u001b[0m_minimize_bfgs\u001b[0m\u001b[0;34m(\u001b[0m\u001b[0mfun\u001b[0m\u001b[0;34m,\u001b[0m \u001b[0mx0\u001b[0m\u001b[0;34m,\u001b[0m \u001b[0margs\u001b[0m\u001b[0;34m,\u001b[0m \u001b[0mjac\u001b[0m\u001b[0;34m,\u001b[0m \u001b[0mcallback\u001b[0m\u001b[0;34m,\u001b[0m \u001b[0;34m**\u001b[0m\u001b[0moptions\u001b[0m\u001b[0;34m)\u001b[0m\u001b[0;34m\u001b[0m\u001b[0;34m\u001b[0m\u001b[0m\n\u001b[0m\u001b[1;32m    613\u001b[0m     \u001b[0;32melif\u001b[0m \u001b[0mmeth\u001b[0m \u001b[0;34m==\u001b[0m \u001b[0;34m'newton-cg'\u001b[0m\u001b[0;34m:\u001b[0m\u001b[0;34m\u001b[0m\u001b[0;34m\u001b[0m\u001b[0m\n\u001b[1;32m    614\u001b[0m         return _minimize_newtoncg(fun, x0, args, jac, hess, hessp, callback,\n",
      "\u001b[0;32m~/CA1_model/CA1_model_env/lib64/python3.6/site-packages/scipy/optimize/optimize.py\u001b[0m in \u001b[0;36m_minimize_bfgs\u001b[0;34m(fun, x0, args, jac, callback, gtol, norm, eps, maxiter, disp, return_all, finite_diff_rel_step, **unknown_options)\u001b[0m\n\u001b[1;32m   1100\u001b[0m \u001b[0;34m\u001b[0m\u001b[0m\n\u001b[1;32m   1101\u001b[0m     sf = _prepare_scalar_function(fun, x0, jac, args=args, epsilon=eps,\n\u001b[0;32m-> 1102\u001b[0;31m                                   finite_diff_rel_step=finite_diff_rel_step)\n\u001b[0m\u001b[1;32m   1103\u001b[0m \u001b[0;34m\u001b[0m\u001b[0m\n\u001b[1;32m   1104\u001b[0m     \u001b[0mf\u001b[0m \u001b[0;34m=\u001b[0m \u001b[0msf\u001b[0m\u001b[0;34m.\u001b[0m\u001b[0mfun\u001b[0m\u001b[0;34m\u001b[0m\u001b[0;34m\u001b[0m\u001b[0m\n",
      "\u001b[0;32m~/CA1_model/CA1_model_env/lib64/python3.6/site-packages/scipy/optimize/optimize.py\u001b[0m in \u001b[0;36m_prepare_scalar_function\u001b[0;34m(fun, x0, jac, args, bounds, epsilon, finite_diff_rel_step, hess)\u001b[0m\n\u001b[1;32m    260\u001b[0m     \u001b[0;31m# calculation reduces overall function evaluations.\u001b[0m\u001b[0;34m\u001b[0m\u001b[0;34m\u001b[0m\u001b[0;34m\u001b[0m\u001b[0m\n\u001b[1;32m    261\u001b[0m     sf = ScalarFunction(fun, x0, args, grad, hess,\n\u001b[0;32m--> 262\u001b[0;31m                         finite_diff_rel_step, bounds, epsilon=epsilon)\n\u001b[0m\u001b[1;32m    263\u001b[0m \u001b[0;34m\u001b[0m\u001b[0m\n\u001b[1;32m    264\u001b[0m     \u001b[0;32mreturn\u001b[0m \u001b[0msf\u001b[0m\u001b[0;34m\u001b[0m\u001b[0;34m\u001b[0m\u001b[0m\n",
      "\u001b[0;32m~/CA1_model/CA1_model_env/lib64/python3.6/site-packages/scipy/optimize/_differentiable_functions.py\u001b[0m in \u001b[0;36m__init__\u001b[0;34m(self, fun, x0, args, grad, hess, finite_diff_rel_step, finite_diff_bounds, epsilon)\u001b[0m\n\u001b[1;32m     74\u001b[0m \u001b[0;34m\u001b[0m\u001b[0m\n\u001b[1;32m     75\u001b[0m         \u001b[0mself\u001b[0m\u001b[0;34m.\u001b[0m\u001b[0m_update_fun_impl\u001b[0m \u001b[0;34m=\u001b[0m \u001b[0mupdate_fun\u001b[0m\u001b[0;34m\u001b[0m\u001b[0;34m\u001b[0m\u001b[0m\n\u001b[0;32m---> 76\u001b[0;31m         \u001b[0mself\u001b[0m\u001b[0;34m.\u001b[0m\u001b[0m_update_fun\u001b[0m\u001b[0;34m(\u001b[0m\u001b[0;34m)\u001b[0m\u001b[0;34m\u001b[0m\u001b[0;34m\u001b[0m\u001b[0m\n\u001b[0m\u001b[1;32m     77\u001b[0m \u001b[0;34m\u001b[0m\u001b[0m\n\u001b[1;32m     78\u001b[0m         \u001b[0;31m# Gradient evaluation\u001b[0m\u001b[0;34m\u001b[0m\u001b[0;34m\u001b[0m\u001b[0;34m\u001b[0m\u001b[0m\n",
      "\u001b[0;32m~/CA1_model/CA1_model_env/lib64/python3.6/site-packages/scipy/optimize/_differentiable_functions.py\u001b[0m in \u001b[0;36m_update_fun\u001b[0;34m(self)\u001b[0m\n\u001b[1;32m    164\u001b[0m     \u001b[0;32mdef\u001b[0m \u001b[0m_update_fun\u001b[0m\u001b[0;34m(\u001b[0m\u001b[0mself\u001b[0m\u001b[0;34m)\u001b[0m\u001b[0;34m:\u001b[0m\u001b[0;34m\u001b[0m\u001b[0;34m\u001b[0m\u001b[0m\n\u001b[1;32m    165\u001b[0m         \u001b[0;32mif\u001b[0m \u001b[0;32mnot\u001b[0m \u001b[0mself\u001b[0m\u001b[0;34m.\u001b[0m\u001b[0mf_updated\u001b[0m\u001b[0;34m:\u001b[0m\u001b[0;34m\u001b[0m\u001b[0;34m\u001b[0m\u001b[0m\n\u001b[0;32m--> 166\u001b[0;31m             \u001b[0mself\u001b[0m\u001b[0;34m.\u001b[0m\u001b[0m_update_fun_impl\u001b[0m\u001b[0;34m(\u001b[0m\u001b[0;34m)\u001b[0m\u001b[0;34m\u001b[0m\u001b[0;34m\u001b[0m\u001b[0m\n\u001b[0m\u001b[1;32m    167\u001b[0m             \u001b[0mself\u001b[0m\u001b[0;34m.\u001b[0m\u001b[0mf_updated\u001b[0m \u001b[0;34m=\u001b[0m \u001b[0;32mTrue\u001b[0m\u001b[0;34m\u001b[0m\u001b[0;34m\u001b[0m\u001b[0m\n\u001b[1;32m    168\u001b[0m \u001b[0;34m\u001b[0m\u001b[0m\n",
      "\u001b[0;32m~/CA1_model/CA1_model_env/lib64/python3.6/site-packages/scipy/optimize/_differentiable_functions.py\u001b[0m in \u001b[0;36mupdate_fun\u001b[0;34m()\u001b[0m\n\u001b[1;32m     71\u001b[0m \u001b[0;34m\u001b[0m\u001b[0m\n\u001b[1;32m     72\u001b[0m         \u001b[0;32mdef\u001b[0m \u001b[0mupdate_fun\u001b[0m\u001b[0;34m(\u001b[0m\u001b[0;34m)\u001b[0m\u001b[0;34m:\u001b[0m\u001b[0;34m\u001b[0m\u001b[0;34m\u001b[0m\u001b[0m\n\u001b[0;32m---> 73\u001b[0;31m             \u001b[0mself\u001b[0m\u001b[0;34m.\u001b[0m\u001b[0mf\u001b[0m \u001b[0;34m=\u001b[0m \u001b[0mfun_wrapped\u001b[0m\u001b[0;34m(\u001b[0m\u001b[0mself\u001b[0m\u001b[0;34m.\u001b[0m\u001b[0mx\u001b[0m\u001b[0;34m)\u001b[0m\u001b[0;34m\u001b[0m\u001b[0;34m\u001b[0m\u001b[0m\n\u001b[0m\u001b[1;32m     74\u001b[0m \u001b[0;34m\u001b[0m\u001b[0m\n\u001b[1;32m     75\u001b[0m         \u001b[0mself\u001b[0m\u001b[0;34m.\u001b[0m\u001b[0m_update_fun_impl\u001b[0m \u001b[0;34m=\u001b[0m \u001b[0mupdate_fun\u001b[0m\u001b[0;34m\u001b[0m\u001b[0;34m\u001b[0m\u001b[0m\n",
      "\u001b[0;32m~/CA1_model/CA1_model_env/lib64/python3.6/site-packages/scipy/optimize/_differentiable_functions.py\u001b[0m in \u001b[0;36mfun_wrapped\u001b[0;34m(x)\u001b[0m\n\u001b[1;32m     68\u001b[0m         \u001b[0;32mdef\u001b[0m \u001b[0mfun_wrapped\u001b[0m\u001b[0;34m(\u001b[0m\u001b[0mx\u001b[0m\u001b[0;34m)\u001b[0m\u001b[0;34m:\u001b[0m\u001b[0;34m\u001b[0m\u001b[0;34m\u001b[0m\u001b[0m\n\u001b[1;32m     69\u001b[0m             \u001b[0mself\u001b[0m\u001b[0;34m.\u001b[0m\u001b[0mnfev\u001b[0m \u001b[0;34m+=\u001b[0m \u001b[0;36m1\u001b[0m\u001b[0;34m\u001b[0m\u001b[0;34m\u001b[0m\u001b[0m\n\u001b[0;32m---> 70\u001b[0;31m             \u001b[0;32mreturn\u001b[0m \u001b[0mfun\u001b[0m\u001b[0;34m(\u001b[0m\u001b[0mx\u001b[0m\u001b[0;34m,\u001b[0m \u001b[0;34m*\u001b[0m\u001b[0margs\u001b[0m\u001b[0;34m)\u001b[0m\u001b[0;34m\u001b[0m\u001b[0;34m\u001b[0m\u001b[0m\n\u001b[0m\u001b[1;32m     71\u001b[0m \u001b[0;34m\u001b[0m\u001b[0m\n\u001b[1;32m     72\u001b[0m         \u001b[0;32mdef\u001b[0m \u001b[0mupdate_fun\u001b[0m\u001b[0;34m(\u001b[0m\u001b[0;34m)\u001b[0m\u001b[0;34m:\u001b[0m\u001b[0;34m\u001b[0m\u001b[0;34m\u001b[0m\u001b[0m\n",
      "\u001b[0;32m<ipython-input-25-aa8ce445b0c1>\u001b[0m in \u001b[0;36mneg_log_likelihood\u001b[0;34m(params, data, dist)\u001b[0m\n\u001b[1;32m      8\u001b[0m \u001b[0;34m\u001b[0m\u001b[0m\n\u001b[1;32m      9\u001b[0m     \u001b[0;31m# Set the fitted parameters\u001b[0m\u001b[0;34m\u001b[0m\u001b[0;34m\u001b[0m\u001b[0;34m\u001b[0m\u001b[0m\n\u001b[0;32m---> 10\u001b[0;31m     \u001b[0mdist_params\u001b[0m\u001b[0;34m[\u001b[0m\u001b[0;34m:\u001b[0m\u001b[0;34m-\u001b[0m\u001b[0;36m2\u001b[0m\u001b[0;34m]\u001b[0m \u001b[0;34m=\u001b[0m \u001b[0mparams\u001b[0m\u001b[0;34m\u001b[0m\u001b[0;34m\u001b[0m\u001b[0m\n\u001b[0m\u001b[1;32m     11\u001b[0m \u001b[0;34m\u001b[0m\u001b[0m\n\u001b[1;32m     12\u001b[0m     \u001b[0;31m# Calculate the negative log-likelihood\u001b[0m\u001b[0;34m\u001b[0m\u001b[0;34m\u001b[0m\u001b[0;34m\u001b[0m\u001b[0m\n",
      "\u001b[0;31mTypeError\u001b[0m: 'tuple' object does not support item assignment"
     ]
    }
   ],
   "source": [
    "# Set initial parameter values\n",
    "initial_params = [0, 1]  # Example initial parameters\n",
    "\n",
    "# Perform MLE using scipy.optimize.minimize\n",
    "result = minimize(neg_log_likelihood, initial_params, args=(data, dist))\n",
    "\n",
    "# Get the estimated parameters\n",
    "estimated_params = result.x\n",
    "print(\"Estimated parameters:\", estimated_params)"
   ]
  },
  {
   "cell_type": "code",
   "execution_count": 13,
   "id": "2d28c3a8-1b5e-4a75-ae76-7cc3859a0525",
   "metadata": {},
   "outputs": [
    {
     "data": {
      "image/png": "[encoded data removed]",
      "text/plain": [
       "<Figure size 432x288 with 1 Axes>"
      ]
     },
     "metadata": {
      "needs_background": "light"
     },
     "output_type": "display_data"
    }
   ],
   "source": [
    "plt.hist(i2e_lookup,bins=100)\n",
    "plt.show()"
   ]
  },
  {
   "cell_type": "code",
   "execution_count": 4,
   "id": "31846634-c198-4fad-9f9c-22890feb3188",
   "metadata": {},
   "outputs": [],
   "source": [
    "def get_all_possible_conns(nodesDF,src,trgt,max_dist,return_distances = False):\n",
    "    \n",
    "    srcs = nodesDF[nodesDF['node_type_id'].str.contains(src)]\n",
    "    trgts = nodesDF[nodesDF['node_type_id'].str.contains(trgt)]\n",
    "\n",
    "    xs = srcs['positions0']\n",
    "    ys = srcs['positions1']\n",
    "    zs = srcs['positions2']\n",
    "\n",
    "    all_src_positions = np.vstack((xs,ys,zs)).T\n",
    "\n",
    "    xs = trgts['positions0']\n",
    "    ys = trgts['positions1']\n",
    "    zs = trgts['positions2']\n",
    "\n",
    "    all_trgt_positions = np.vstack((xs,ys,zs)).T\n",
    "    \n",
    "    squared_distances = np.sum((all_src_positions[:, np.newaxis, :] - all_trgt_positions) ** 2, axis=2)\n",
    "    euclidean_distances = np.sqrt(squared_distances)\n",
    "    collect = []\n",
    "    collect_dist = []\n",
    "    for i in range(euclidean_distances.shape[0]):\n",
    "        possible_srcs_num = len(np.where(euclidean_distances[i,:] <= max_dist)[0]) \n",
    "        collect.append(possible_srcs_num)\n",
    "    if return_distances == True:\n",
    "        return collect, euclidean_distances#note these are all distances, not just the ones below 400\n",
    "    else:\n",
    "        return collect"
   ]
  },
  {
   "cell_type": "code",
   "execution_count": 6,
   "id": "1c92a690-f4d0-4f41-b57f-063d33bb3ca7",
   "metadata": {},
   "outputs": [],
   "source": [
    "src,trgt = 'AAC','Pyr'\n",
    "max_dist = 400\n",
    "\n",
    "srcs = nodesDF[nodesDF['node_type_id'].str.contains(src)]\n",
    "trgts = nodesDF[nodesDF['node_type_id'].str.contains(trgt)]\n",
    "\n",
    "xs = srcs['positions0']\n",
    "ys = srcs['positions1']\n",
    "zs = srcs['positions2']\n",
    "\n",
    "all_src_positions = np.vstack((xs,ys,zs)).T\n",
    "\n",
    "\n",
    "xs = trgts['positions0']\n",
    "ys = trgts['positions1']\n",
    "zs = trgts['positions2']\n",
    "\n",
    "all_trgt_positions = np.vstack((xs,ys,zs)).T\n",
    "\n",
    "\n",
    "squared_distances = np.sum((all_src_positions[:, np.newaxis, :] - all_trgt_positions) ** 2, axis=2)\n",
    "euclidean_distances = np.sqrt(squared_distances)\n",
    "\n"
   ]
  },
  {
   "cell_type": "code",
   "execution_count": null,
   "id": "0fd639d9-9545-4d96-816d-7f48d2aaa767",
   "metadata": {},
   "outputs": [],
   "source": [
    "def test_func(srcs, trgts, dist,pdf_lookup):\n",
    "    seed_value = 123\n",
    "    np.random.seed(seed_value)\n",
    "    \n",
    "    if dist <= 300:\n",
    "        \n",
    "        test_prob = np.random.uniform()\n",
    "        #print(pdf_lookup.iloc[int(dist)].iloc[0])\n",
    "        dist_conn_prob = pdf_lookup.iloc[int(dist)].iloc[0]\n",
    "\n",
    "        if test_prob <= dist_conn_prob:\n",
    "            return 1, dist\n",
    "        else:\n",
    "            return 0"
   ]
  },
  {
   "cell_type": "code",
   "execution_count": null,
   "id": "10f1fad3-f73f-4ee6-ab4f-14a27594b2da",
   "metadata": {},
   "outputs": [],
   "source": [
    "collect = []\n",
    "for i in range(euclidean_distances.shape[1]):\n",
    "    possible_srcs = np.where(euclidean_distances[:,i] <= max_dist)[0]\n",
    "    connection_probability = convergence / len(possible_srcs)\n",
    "    collect.append(connection_probability)"
   ]
  },
  {
   "cell_type": "code",
   "execution_count": null,
   "id": "3b0eadb4-fffa-42f5-8796-2750c465ea4d",
   "metadata": {},
   "outputs": [],
   "source": [
    "i=0\n",
    "possible_srcs = np.where(euclidean_distances[:,i] <= max_dist)[0]\n",
    "connection_probability = convergence / len(possible_srcs)\n",
    "collect.append(connection_probability)"
   ]
  }
 ],
 "metadata": {
  "kernelspec": {
   "display_name": "Python 3",
   "language": "python",
   "name": "python3"
  },
  "language_info": {
   "codemirror_mode": {
    "name": "ipython",
    "version": 3
   },
   "file_extension": ".py",
   "mimetype": "text/x-python",
   "name": "python",
   "nbconvert_exporter": "python",
   "pygments_lexer": "ipython3",
   "version": "3.6.8"
  }
 },
 "nbformat": 4,
 "nbformat_minor": 5
}
