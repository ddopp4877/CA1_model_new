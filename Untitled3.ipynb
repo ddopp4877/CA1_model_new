{
 "cells": [
  {
   "cell_type": "code",
   "execution_count": 1,
   "id": "2f46f785-5608-491b-9104-667ff325f1f9",
   "metadata": {},
   "outputs": [],
   "source": [
    "def lognormal(source, target,m,s):\n",
    "\n",
    "    mean = np.log(m) - 0.5 * np.log((s / m) ** 2 + 1)\n",
    "    std = np.sqrt(np.log((s / m) ** 2 + 1))\n",
    "    synaptic_weight = np.random.lognormal(mean, std, 1)\n",
    "    return synaptic_weight"
   ]
  },
  {
   "cell_type": "code",
   "execution_count": 2,
   "id": "cd09f88a-39b9-4e53-83d6-1aacfaadebac",
   "metadata": {},
   "outputs": [],
   "source": [
    "import numpy as np"
   ]
  },
  {
   "cell_type": "code",
   "execution_count": 8,
   "id": "10650531-bacb-4814-9088-59a9cf7072b1",
   "metadata": {},
   "outputs": [],
   "source": [
    "import matplotlib.pyplot as plt"
   ]
  },
  {
   "cell_type": "code",
   "execution_count": 29,
   "id": "1c5e20b1-ce48-45db-b1a9-61e50fcf3282",
   "metadata": {},
   "outputs": [
    {
     "data": {
      "image/png": "[encoded data removed]",
      "text/plain": [
       "<Figure size 432x288 with 1 Axes>"
      ]
     },
     "metadata": {
      "needs_background": "light"
     },
     "output_type": "display_data"
    }
   ],
   "source": [
    "synaptic_weight = np.random.lognormal(0.00541, 0.9, 1000)\n",
    "plt.hist(synaptic_weight*0.001,bins = 200)\n",
    "plt.show()"
   ]
  },
  {
   "cell_type": "code",
   "execution_count": 4,
   "id": "1df5198d-1b2e-4e5e-af09-8fab67cd30cf",
   "metadata": {},
   "outputs": [
    {
     "data": {
      "text/plain": [
       "0.010820000000000001"
      ]
     },
     "execution_count": 4,
     "metadata": {},
     "output_type": "execute_result"
    }
   ],
   "source": [
    "0.00541 *3 - 0.00541"
   ]
  },
  {
   "cell_type": "code",
   "execution_count": 19,
   "id": "63de0f15-7f0e-4100-81e5-8495b9406bfc",
   "metadata": {},
   "outputs": [
    {
     "data": {
      "text/plain": [
       "0.01623"
      ]
     },
     "execution_count": 19,
     "metadata": {},
     "output_type": "execute_result"
    }
   ],
   "source": [
    "0.00541 *3"
   ]
  }
 ],
 "metadata": {
  "kernelspec": {
   "display_name": "Python 3",
   "language": "python",
   "name": "python3"
  },
  "language_info": {
   "codemirror_mode": {
    "name": "ipython",
    "version": 3
   },
   "file_extension": ".py",
   "mimetype": "text/x-python",
   "name": "python",
   "nbconvert_exporter": "python",
   "pygments_lexer": "ipython3",
   "version": "3.6.8"
  }
 },
 "nbformat": 4,
 "nbformat_minor": 5
}
