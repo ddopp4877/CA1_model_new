{
 "cells": [
  {
   "cell_type": "code",
   "execution_count": 2,
   "id": "78322862-082d-4dd1-bf5b-3a886d137d38",
   "metadata": {},
   "outputs": [],
   "source": [
    "import h5py\n",
    "import numpy as np\n",
    "import pandas as pd\n",
    "import os"
   ]
  },
  {
   "cell_type": "code",
   "execution_count": 3,
   "id": "a15c1de3-b298-4730-88c4-10b4fdd2b866",
   "metadata": {},
   "outputs": [],
   "source": [
    "filename = 'biophysical_gap_juncs.h5'"
   ]
  },
  {
   "cell_type": "code",
   "execution_count": 5,
   "id": "c1283c21-19ba-4772-ba66-ba4c45101752",
   "metadata": {},
   "outputs": [],
   "source": [
    "def SaveDataToDF(f):\n",
    "    myData = []\n",
    "    myDataNames = []\n",
    "    def saveDat(item):\n",
    "        if 'Data' in str(f[item].id):\n",
    "            data2use = f[item][()]\n",
    "            if data2use.ndim == 2:#some groups have multiple columns and this messes up the translation to a df at the end of this function\n",
    "                [a,b] = data2use.shape\n",
    "                for col in np.arange(0,b):\n",
    "                    myData.append(data2use[:,col])\n",
    "                    dataName = (f[item].name).split('/')[-1] + str(col)\n",
    "                    myDataNames.append(dataName)\n",
    "            else:\n",
    "                myData.append(f[item][()])\n",
    "                dataName = (f[item].name).split('/')[-1]\n",
    "                myDataNames.append(dataName)\n",
    "        \n",
    "    f.visit(saveDat)\n",
    "    allData = pd.DataFrame(myData).T\n",
    "    allData.columns = myDataNames\n",
    "    f.close()\n",
    "    return allData"
   ]
  },
  {
   "cell_type": "code",
   "execution_count": 6,
   "id": "32f39b90-39b2-4afb-b4ed-5ab63f60146e",
   "metadata": {},
   "outputs": [],
   "source": [
    "f = h5py.File(filename, 'r')\n",
    "gapsDF = SaveDataToDF(f)"
   ]
  },
  {
   "cell_type": "code",
   "execution_count": 10,
   "id": "248b38bd-6aa2-446b-8a2f-fc0d79c09fff",
   "metadata": {},
   "outputs": [
    {
     "data": {
      "text/plain": [
       "15"
      ]
     },
     "execution_count": 10,
     "metadata": {},
     "output_type": "execute_result"
    }
   ],
   "source": [
    "len(set(gapsDF['source_ids']))"
   ]
  }
 ],
 "metadata": {
  "kernelspec": {
   "display_name": "Python 3",
   "language": "python",
   "name": "python3"
  },
  "language_info": {
   "codemirror_mode": {
    "name": "ipython",
    "version": 3
   },
   "file_extension": ".py",
   "mimetype": "text/x-python",
   "name": "python",
   "nbconvert_exporter": "python",
   "pygments_lexer": "ipython3",
   "version": "3.6.8"
  }
 },
 "nbformat": 4,
 "nbformat_minor": 5
}
