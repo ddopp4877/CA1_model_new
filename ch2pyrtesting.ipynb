{
 "cells": [
  {
   "cell_type": "code",
   "execution_count": null,
   "id": "cc30eeef-3748-42be-8253-47c3337f34de",
   "metadata": {},
   "outputs": [],
   "source": [
    "#Chn2Pyr testing"
   ]
  },
  {
   "cell_type": "code",
   "execution_count": null,
   "id": "7b8cb90d-6a81-4b5e-801e-949b1e2067b0",
   "metadata": {},
   "outputs": [],
   "source": [
    "!export NEURONHOME=/home/dpd4k4/CA1_model/CA1_model_env/lib64/python3.6/site-packages/neuron/.data/share/nrn"
   ]
  },
  {
   "cell_type": "code",
   "execution_count": null,
   "id": "69dbcf7f-9df6-4089-a172-25eb913cb031",
   "metadata": {},
   "outputs": [],
   "source": [
    "\n"
   ]
  },
  {
   "cell_type": "code",
   "execution_count": null,
   "id": "00107a87-cccc-4d27-be94-fbee589498ce",
   "metadata": {},
   "outputs": [],
   "source": [
    "import numpy as np\n",
    "from neuron import h\n",
    "import os\n",
    "import matplotlib.pyplot as plt\n",
    "import pandas as pd\n",
    "import json\n",
    "from scipy.signal import find_peaks\n",
    "#from scipy.optimize import curve_fit\n",
    "#do not rerun\n",
    "h.load_file('stdrun.hoc')\n",
    "#h.nrn_load_dll(os.path.join(\"biophys_components\",\"mechanisms\",\"modfiles\",\"nrnmech.dll\"))\n",
    "h.nrn_load_dll(os.path.join(\"biophys_components\",\"mechanisms\",\"modfiles\",\"x86_64\",\".libs\",\"libnrnmech.so\"))\n",
    "#fileList = ['class_pyramidalcell_original_modified.hoc','class_axoaxoniccell.hoc']\n",
    "fileList = ['class_pyramidalcell.hoc','class_axoaxoniccell.hoc','class_pvbasketcell.hoc','class_olmcell.hoc']\n",
    "#fileList = ['class_pyramidalcell.hoc']\n",
    "#for each file, load it into the hoc interpreter so it can be accessed\n",
    "for item in fileList:\n",
    "    h.load_file(os.path.join(\"biophys_components\",\"templates\",item))\n",
    "callNames = [\"h.\" + fileList[i].split('_')[1].split('.')[0] + \"()\" for i in range(len(fileList))]\n",
    "callNames.sort()\n",
    "\n",
    "for i in range(len(callNames)):\n",
    "    myCell = eval(callNames[i])\n",
    "#    for sec in h.allsec(myCell):\n",
    "#        print(sec)"
   ]
  },
  {
   "cell_type": "code",
   "execution_count": null,
   "id": "e04a5475-0d86-4068-af14-7ddffc761889",
   "metadata": {},
   "outputs": [],
   "source": [
    "\n",
    "AxonNo = 6\n",
    "#InjList = [np.arange(400,500,50),#aac\n",
    "#          np.arange(200,550,50)]#pyr\n",
    "a = 200\n",
    "InjList = [np.array([200]),np.array([a])]\n",
    "allTrials = []\n",
    "allTrialsVas = []\n",
    "#allTrialsiNasoma = []\n",
    "for i in range(len(callNames)):\n",
    "    myCell = eval(callNames[i])#make the cell\n",
    "    Ia = InjList[i] /1000# nA ->pA# the current sweep for this particular cell\n",
    "    allVs = []\n",
    "    allVas = []\n",
    "    #alliNasoma = []\n",
    "    for j in range(len(Ia)):#test it at each current injection and save       \n",
    "        #iclamp = h.IClamp(myCell.axon[AxonNo](0.5))\n",
    "        iclamp = h.IClamp(myCell.soma[0](0.5))\n",
    "        iclamp.delay = 300\n",
    "        iclamp.dur = 2\n",
    "        iclamp.amp = Ia[j]\n",
    "        \n",
    "        v = h.Vector().record(myCell.soma[0](0.5)._ref_v)\n",
    "        #va = h.Vector().record(myCell.axon[0](0.5)._ref_v)\n",
    "        #iNasoma = h.Vector().record(myCell.soma[0](0.5)._ref_ina)\n",
    "        \n",
    "        h.dt=0.2\n",
    "        h.finitialize(-63)\n",
    "        h.continuerun(1500)\n",
    "        \n",
    "        #iNaSoma = np.array(iNasoma)\n",
    "        V = np.array(v)\n",
    "        #Va = np.array(va)\n",
    "        \n",
    "        \n",
    "        allVs.append(V)\n",
    "        #allVas.append(Va)\n",
    "        #alliNasoma.append(iNasoma)\n",
    "        \n",
    "    allTrials.append([allVs])#list of lists; each sublist has the current sweeps for the given cell\n",
    "    #allTrialsVas.append([allVas])\n",
    "    #allTrialsiNasoma.append([alliNasoma])\n",
    "    \n",
    "res = np.concatenate(allTrials,axis=1)[0].T#how I plotted it the first time.\n",
    "#resVa = np.concatenate(allTrialsVas,axis=1)[0].T#how I plotted it the first time.\n",
    "#resIna =  np.concatenate(allTrialsiNasoma,axis=1)[0].T#how I plotted it the first time.\n",
    "\n",
    "time = np.arange(0,res.shape[0]*h.dt/1000,h.dt/1000)#time in seconds\n",
    "\n",
    "\n",
    "\"\"\"\n",
    "start = 0\n",
    "fig,axs = plt.subplots(1,2,figsize=(15,4))\n",
    "axs[0].plot(time[:5850],res[:5850,start:start+len(InjList[1])])\n",
    "axs[0].set_title('pyramidal cell Soma')\n",
    "axs[0].set_xlim([0.25, 0.35])\n",
    "axs[0].set_xlabel('Time (s)')\n",
    "axs[0].set_ylabel('Potential (mV)')\n",
    "\n",
    "axs[1].plot(time[:5850],resVa[:5850,start:start+len(InjList[1])])\n",
    "axs[1].set_xlim([0.25, 0.35])\n",
    "axs[1].set_title('pyramidal cell axon')\n",
    "axs[1].set_xlabel('Time (s)')\n",
    "axs[1].set_ylabel('Potential (mV)')\n",
    "\n",
    "\n",
    "plt.show()\n",
    "\n",
    "\n",
    "\"\"\"\n",
    "fig,axs = plt.subplots(1,2,figsize=(15,4))\n",
    "plt.subplots_adjust(hspace=0.5)\n",
    "start,k = 0,0\n",
    "for j in range(2):\n",
    "    axs[j].plot(time[:5850],res[:5850,start:start+len(InjList[k])])\n",
    "    axs[j].set_title(callNames[k].split('.')[1].split('()')[0])\n",
    "    axs[j].set_xlabel('Time (s)')\n",
    "    axs[j].set_ylabel('Potential (mV)')\n",
    "    start += len(InjList[k])\n",
    "\n",
    "    k+=1\n",
    "\n",
    "#plt.savefig('current sweeps.png',dpi=500)"
   ]
  },
  {
   "cell_type": "code",
   "execution_count": null,
   "id": "7c093329-09b5-4335-91b8-f88bc88388d2",
   "metadata": {},
   "outputs": [],
   "source": [
    "callNames"
   ]
  },
  {
   "cell_type": "code",
   "execution_count": null,
   "id": "d318dc14-9552-407f-bea3-f5452371b2e3",
   "metadata": {},
   "outputs": [],
   "source": [
    "def getSynName(paramsDict):# so you don't have to track it down in the synapses.py file\n",
    "    '''\n",
    "    assumes file w/ synapses is called 'synapses.py' and is the root directory\n",
    "    assumes paramsDict has filename of the .json\n",
    "    assumes the synapse is initialized as the variable 'lsyn' for example:\n",
    "    lsyn = h.pyr2int(blablablah) \n",
    "    \n",
    "    '''\n",
    "    if type(paramsDict) == dict:\n",
    "        fileName = paramsDict['filename']\n",
    "    else:\n",
    "        fileName = paramsDict\n",
    "        \n",
    "    fp = open(os.path.join(\"biophys_components\",\"synaptic_models\",fileName))\n",
    "    data =json.load(fp)\n",
    "    \n",
    "    with open('synapses.py') as f:\n",
    "        for i,item in enumerate(f):\n",
    "            if ('add_synapse_model' in item) & (data['level_of_detail'] in item):\n",
    "                funcName = item.split('add_synapse_model')[1].split('(')[1].split(',')[0]#very specific to how synapses.py is organized. not recommended)\n",
    "\n",
    "    with open('synapses.py') as f:\n",
    "        found = 0\n",
    "        decLine = ''\n",
    "        for i, item in enumerate(f):\n",
    "            if 'def '+funcName in item:\n",
    "                found = 1\n",
    "                \n",
    "            if (found == 1) & ('lsyn' in item):\n",
    "                decLine = item\n",
    "                found = 0 #only want the one\n",
    "        synName = decLine.split('h.')[1].split('(')[0]\n",
    "    return synName"
   ]
  },
  {
   "cell_type": "code",
   "execution_count": null,
   "id": "a64452cb-334f-45a7-8610-c642631e3e0d",
   "metadata": {},
   "outputs": [],
   "source": [
    "#now get the synapse currents available"
   ]
  },
  {
   "cell_type": "code",
   "execution_count": null,
   "id": "bad59a69-6bb6-4d3e-996a-274ad5f73250",
   "metadata": {},
   "outputs": [],
   "source": [
    "def getSyn_vars(fileName,sectionName,key_str):\n",
    "    '''\n",
    "    takes json name, the mod file section heading name, and the string you want to search in it.\n",
    "    i.e., to get all the synaptic conductances' variable names:\n",
    "    getSyn_vars('PN2CHN.json','RANGE','gbar')\n",
    "    returns\n",
    "    ['gbar_nmda', 'gbar_ampa']\n",
    "    for a mod file with nmda and ampa, for example an E->I synapse\n",
    "    \n",
    "    or to get all the synaptic current variable names:\n",
    "    getSyn_vars('PN2CHN.json','NONSPECIFIC_CURRENT','i')\n",
    "    \n",
    "    '''\n",
    "    \n",
    "    modFile = getSynName(fileName)+'.mod'\n",
    "    with open(os.path.join('biophys_components','mechanisms','modfiles',modFile)) as f:\n",
    "        modDat = f.read()\n",
    "\n",
    "    test_str = modDat\n",
    "    test_sub = sectionName\n",
    "\n",
    "    res = [i for i in range(len(test_str)) if test_str.startswith(test_sub, i)]\n",
    "\n",
    "    varList = []\n",
    "    for i in range(len(res)):\n",
    "        substring = modDat[res[i]:]\n",
    "        substring = substring[:substring.find('\\n')]\n",
    "        for item in substring.split(' '):\n",
    "            if key_str in item:\n",
    "                varList.append(item)\n",
    "    #remove spaces and ',' or really just anything that is not alnum or underscore. so depends on user convention\n",
    "    for i in range(len(varList)):\n",
    "        string = varList[i]\n",
    "        newStr = []\n",
    "        for char in string:\n",
    "            if char.isalnum() or (char == '_'):\n",
    "                newStr.append(char)\n",
    "        varList[i] = \"\".join(newStr)\n",
    "    varList\n",
    "\n",
    "    return varList"
   ]
  },
  {
   "cell_type": "markdown",
   "id": "6d94f476-2de2-48ec-a74c-2baebb544af3",
   "metadata": {},
   "source": [
    "# Pyr -> AAC"
   ]
  },
  {
   "cell_type": "code",
   "execution_count": null,
   "id": "19bb5ab8-ccc4-4e3c-ba7e-7af1f77934d6",
   "metadata": {},
   "outputs": [],
   "source": [
    "def run2cellModel(paramsDict):\n",
    "    #read and close the json\n",
    "    f = open(os.path.join(\"biophys_components\",\"synaptic_models\",paramsDict['filename']))\n",
    "    data =json.load(f) \n",
    "\n",
    "    #make the cells, iclamp, synapse,and netcon and set their attributes\n",
    "    Cell1 = paramsDict['cell1']# Pyr\n",
    "    Cell2 = paramsDict['cell2'] # AAC    \n",
    "    \n",
    "    iclamp = h.IClamp(Cell1.soma[0](0.5))\n",
    "    [setattr(iclamp,key,float(paramsDict['IclampParams'][key])) for key in paramsDict['IclampParams'].keys() if hasattr(iclamp,key)]\n",
    "\n",
    "    synParams = paramsDict['synTargetParams']\n",
    "    syn = eval(f\"h.{getSynName(paramsDict)}(Cell2.{synParams['secName']}[{synParams['secNo']}]({synParams['segNo']}))\")\n",
    "    [setattr(syn,key,float(data[key])) for key in data.keys() if hasattr(syn,key)]\n",
    "    \n",
    "    #also make into list so it can be easily switched between sims\n",
    "    syn.gbar_nmda = paramsDict['syn.gbar_nmda']\n",
    "    syn.gbar_ampa = paramsDict['syn.gbar_ampa']\n",
    "\n",
    "    #assumes netCon is watching the soma of cell1 to decide if there is an event\n",
    "    netcon = h.NetCon(Cell1.soma[0](0.5)._ref_v, syn,10, 0.8, 1,sec=Cell1.soma[0])\n",
    " \n",
    "    recVars = [h.Vector().record(Cell1.soma[0](0.5)._ref_v),h.Vector().record(Cell2.soma[0](0.5)._ref_v)]# somas\n",
    "    synCurrentList = getSyn_vars(paramsDict['filename'],'NONSPECIFIC_CURRENT','i')\n",
    "    for current in synCurrentList:\n",
    "        recVars.append(h.Vector().record(eval(f\"syn._ref_{current}\")))\n",
    "        \n",
    "    tstop = paramsDict['simParams']['tstop']\n",
    "    h.dt=paramsDict['simParams']['h.dt']\n",
    "    h.L = paramsDict['simParams']['h.L']\n",
    "    h.finitialize(paramsDict['simParams']['vinit'])\n",
    "    h.continuerun(tstop)\n",
    "\n",
    "    recVars = [np.array(recVar) for recVar in recVars]\n",
    "    time = np.linspace(0,tstop,int(tstop/h.dt )+1)#+1 for some reason\n",
    "    ICLAMP = np.zeros(len(time))\n",
    "    ICLAMP[int(iclamp.delay/h.dt):int(iclamp.delay/h.dt+iclamp.dur)] = iclamp.amp\n",
    "    recVars.append(ICLAMP)\n",
    "    return time,recVars\n"
   ]
  },
  {
   "cell_type": "code",
   "execution_count": null,
   "id": "357377f4-6ac2-468f-bf1d-7583b26daeaa",
   "metadata": {},
   "outputs": [],
   "source": [
    "paramsDict = {'filename'        : 'PN2CHN.json',\n",
    "              'cell1'           : h.pyramidalcell(),#cell that is stimulated w/ iclamp\n",
    "              'cell2'           : h.axoaxoniccell(),\n",
    "              \n",
    "              'simParams'       : {'tstop': 300,\n",
    "                                   'h.dt' : 0.1,\n",
    "                                   'h.L'  : 20,\n",
    "                                   'vinit': -63,\n",
    "                                  },\n",
    "              \n",
    "              'IclampParams'    : {'delay' : 100,\n",
    "                                   'dur'   : 8,\n",
    "                                   'amp'   : 0.6,\n",
    "                                  },\n",
    "\n",
    "              'syn.gbar_nmda'   : 0.001,\n",
    "              'syn.gbar_ampa'   : 0.001,\n",
    "              \n",
    "              'synTargetParams' :{'secName' : 'dend',\n",
    "                                  'secNo'   : '6',\n",
    "                                  'segNo'   : '0.5'\n",
    "              \n",
    "             }\n",
    "             }"
   ]
  },
  {
   "cell_type": "code",
   "execution_count": null,
   "id": "0eb85054-fc9e-4038-a98d-6c79b1010887",
   "metadata": {},
   "outputs": [],
   "source": [
    "time,recVars = run2cellModel(paramsDict)"
   ]
  },
  {
   "cell_type": "code",
   "execution_count": null,
   "id": "1f316daf-a79e-4554-a58d-22e5ee361649",
   "metadata": {},
   "outputs": [],
   "source": [
    "\n",
    "plt.plot(time,recVars[0],label = 'Pyr')\n",
    "plt.plot(time,recVars[1],label = 'AAC')\n",
    "plt.legend()"
   ]
  },
  {
   "cell_type": "code",
   "execution_count": null,
   "id": "cffbbdd3-f47e-458f-b31b-d543e93a4bc9",
   "metadata": {},
   "outputs": [],
   "source": [
    "plt.plot(time,recVars[2],label = 'i_nmda')\n",
    "plt.plot(time,recVars[3],label = 'i_ampa')\n",
    "plt.legend()"
   ]
  },
  {
   "cell_type": "code",
   "execution_count": null,
   "id": "5546f351-e8c4-4b2f-bc53-736d2bccddf1",
   "metadata": {},
   "outputs": [],
   "source": [
    "time,recVars = run2cellModel(paramsDict)\n",
    "peaks, _ = find_peaks(recVars[1], height=20)\n",
    "while len(peaks) < 1:\n",
    "    #paramsDict['syn.gbar_nmda'] += 0.001\n",
    "    paramsDict['syn.gbar_ampa'] += 0.001\n",
    "    time,recVars = run2cellModel(paramsDict)\n",
    "    peaks, _ = find_peaks(recVars[1], height=20)\n"
   ]
  },
  {
   "cell_type": "code",
   "execution_count": null,
   "id": "5f602e4d-dd19-4f15-9244-cf069f9be821",
   "metadata": {},
   "outputs": [],
   "source": [
    "paramsDict['syn.gbar_ampa']"
   ]
  },
  {
   "cell_type": "code",
   "execution_count": null,
   "id": "f7614c76-8979-4c8a-9794-e68b1cff89bb",
   "metadata": {},
   "outputs": [],
   "source": [
    "test.dend"
   ]
  },
  {
   "cell_type": "code",
   "execution_count": null,
   "id": "c53871c5-4730-4392-92b2-396bd96aa1c0",
   "metadata": {},
   "outputs": [],
   "source": [
    "plt.plot(recVars[1])"
   ]
  },
  {
   "cell_type": "code",
   "execution_count": null,
   "id": "ab643341-9b4f-4b88-980f-b8aaf285aac4",
   "metadata": {},
   "outputs": [],
   "source": [
    "\n",
    "Pyr = h.pyramidalcell()\n",
    "AAC = h.axoaxoniccell()\n",
    "syn = h.pyr2int(AAC.dend[6](0.5))\n",
    "#convert to list depending on how many recvars you want\n",
    "recVar1 = h.Vector().record(Pyr.soma[0](0.5)._ref_v)\n",
    "recVar2  = h.Vector().record(AAC.soma[0](0.5)._ref_v)\n",
    "# recVar3 = h.Vector().record(syn._ref_i_ampa)\n",
    "# recVar4 = h.Vector().record(syn._ref_i_nmda)\n",
    "nc = h.NetCon(Pyr.soma[0](0.5)._ref_v, syn,10, 0.8, 1,sec=Pyr.soma[0])\n",
    "paramsDict = {'filename'        : 'PN2CHN.json',\n",
    "              'tstop'           : 300,\n",
    "              'h.dt'            : 0.1,\n",
    "              'h.L'             : 20,\n",
    "              'vinit'           : -63,\n",
    "              'cell1'           : Pyr,\n",
    "              'cell2'           : AAC,\n",
    "              'iclamp_target'   : Pyr.soma[0](0.5),\n",
    "              'iclamp.delay'    : 100,\n",
    "              'iclamp.dur'      : 8,\n",
    "              'iclamp.amp'      : 0.6,\n",
    "              'recVar1'         : recVar1,\n",
    "              'recVar2'         : recVar2,\n",
    "#               'recVar3'         : recVar3,\n",
    "#               'recVar4'         : recVar4,\n",
    "              'syn'             : syn,\n",
    "              'syn.gbar_nmda'   : 0.008,\n",
    "              'syn.gbar_ampa'   : 0.0008,\n",
    "              'netCon'          : nc\n",
    "              \n",
    "             }\n",
    "f = open(os.path.join(\"biophys_components\",\"synaptic_models\",paramsDict['filename']))\n",
    "data =json.load(f)\n",
    "keyList = list(data.keys())\n",
    "\n",
    "\n",
    "\n",
    "iclamp = h.IClamp(paramsDict['iclamp_target'])\n",
    "iclamp.delay = paramsDict['iclamp.delay']\n",
    "iclamp.dur = paramsDict['iclamp.dur']\n",
    "iclamp.amp = paramsDict['iclamp.amp']\n",
    "\n",
    "\n",
    "syn = paramsDict['syn']\n",
    "[setattr(syn,key,float(data[key])) for key in keyList if hasattr(syn,key)]\n",
    "\n",
    "#also make into list so it can be easily switched between sims\n",
    "syn.gbar_nmda = paramsDict['syn.gbar_nmda']\n",
    "syn.gbar_ampa = paramsDict['syn.gbar_ampa']\n",
    "\n",
    "\n",
    "\n",
    "#recVar1 = paramsDict['recVar1']\n",
    "#recVar2 = paramsDict['recVar2']\n",
    "#recVar3 = paramsDict['recVar3']\n",
    "#recVar4 = paramsDict['recVar4']\n",
    "\n",
    "h.dt=paramsDict['h.dt']\n",
    "h.L = paramsDict['h.L']\n",
    "h.finitialize(paramsDict['vinit'])\n",
    "h.continuerun(paramsDict['tstop'])\n",
    "\n",
    "recVar1 = np.array(recVar1)\n",
    "recVar2 = np.array(recVar2)\n",
    "# recVar3 = np.array(recVar3)\n",
    "# recVar4 = np.array(recVar4)\n",
    "\n",
    "time = np.linspace(0,paramsDict['tstop'],int(paramsDict['tstop']/h.dt )+1)#+1 for some reason\n",
    "ICLAMP = np.zeros(len(time))\n",
    "ICLAMP[int(iclamp.delay/h.dt):int(iclamp.delay/h.dt+iclamp.dur)] = iclamp.amp\n",
    "\n",
    "recVars = [recVar1,recVar2,ICLAMP]\n",
    "#time, recVars = run2cellModel(paramsDict)\n",
    "vPyr = recVars[0]\n",
    "vAAC = recVars[1]\n",
    "iampa = recVars[2]\n",
    "inmda = recVars[3]\n",
    "plt.plot(vPyr)"
   ]
  },
  {
   "cell_type": "code",
   "execution_count": null,
   "id": "7dc5490e-71cd-4f14-9c99-37a6a92857de",
   "metadata": {},
   "outputs": [],
   "source": [
    "paramsDict['tstop']"
   ]
  },
  {
   "cell_type": "code",
   "execution_count": null,
   "id": "a269b416-bbb8-4731-b29d-0dd6656fa786",
   "metadata": {},
   "outputs": [],
   "source": [
    "['__abs__', '__add__', '__bool__', '__call__', '__class__', '__delattr__', '__delitem__', '__dir__', '__doc__', \n",
    " '__eq__', '__format__', '__ge__', '__getattribute__', '__getitem__', '__gt__', '__hash__', '__init__', '__init_subclass__',\n",
    " '__iter__', '__le__', '__len__', '__lt__', '__module__', '__mul__', '__ne__', '__neg__', '__new__', '__next__', '__pos__',\n",
    " '__radd__', '__reduce__', '__reduce_ex__', '__repr__', '__rmul__', '__rsub__', '__rtruediv__', '__setattr__', '__setitem__',\n",
    " '__setstate__', '__sizeof__', '__str__', '__sub__', '__subclasshook__', '__truediv__', 'active', 'baseattr', 'delay', 'event',\n",
    " 'get_recordvec', 'hname', 'hocobjptr', 'postcell', 'postcelllist', 'postloc', 'postseg', 'pre', 'precell', 'precelllist', 'prelist',\n",
    " 'preloc', 'preseg', 'record', 'same', 'setpost', 'srcgid', 'syn', 'synlist', 'threshold', 'valid', 'wcnt', 'weight', 'x']"
   ]
  },
  {
   "cell_type": "code",
   "execution_count": null,
   "id": "8b16965e-4037-4521-90f2-2f04c3249f96",
   "metadata": {},
   "outputs": [],
   "source": [
    "plt.figure(figsize=(15,5))\n",
    "plt.plot(time,vPyr,label='Pyr')\n",
    "plt.plot(time,vAAC,label='AAC')\n",
    "\n",
    "#plt.plot(time,inmda*100,label='inmda*100')\n",
    "#plt.plot(time,iampa*100,label='iampa*100')\n",
    "#plt.xlim([90,140])\n",
    "plt.ylabel('mv and uS')\n",
    "plt.title('Pyr -> AAC by AMPA and NMDA')\n",
    "plt.legend()"
   ]
  },
  {
   "cell_type": "code",
   "execution_count": null,
   "id": "9e04f323-9d08-4daa-ad96-6284c1b51649",
   "metadata": {},
   "outputs": [],
   "source": [
    "recVars[0]"
   ]
  },
  {
   "cell_type": "markdown",
   "id": "904c4910-6042-4d5d-a246-84ce0e3263b6",
   "metadata": {},
   "source": [
    "# Pyr -> AAC Synapse"
   ]
  },
  {
   "cell_type": "code",
   "execution_count": null,
   "id": "e07e258b-3d6f-4d88-9b89-443ee11b2c89",
   "metadata": {},
   "outputs": [],
   "source": [
    "filename = 'PN2CHN.json'\n",
    "f = open(os.path.join(\"biophys_components\",\"synaptic_models\",filename))\n",
    "data =json.load(f)\n",
    "keyList = list(data.keys())\n",
    "    \n",
    "tstop = 300\n",
    "Pyr = h.pyramidalcell()\n",
    "AAC = h.axoaxoniccell()\n",
    "\n",
    "iclamp = h.IClamp(Pyr.soma[0](0.5))\n",
    "iclamp.delay = 100\n",
    "iclamp.dur = 8\n",
    "iclamp.amp = 0.6\n",
    "\n",
    "vPyr = h.Vector().record(Pyr.soma[0](0.5)._ref_v)\n",
    "vPyrAxon = h.Vector().record(Pyr.axon[6](0.5)._ref_v)\n",
    "vAAC = h.Vector().record(AAC.soma[0](0.5)._ref_v)\n",
    "\n",
    "\n",
    "syn = h.pyr2int(AAC.dend[6](0.5))\n",
    "[setattr(syn,key,float(data[key])) for key in keyList if hasattr(syn,key)]\n",
    "syn.gbar_nmda *= 5\n",
    "syn.gbar_ampa *= 5\n",
    "iampa = h.Vector().record(syn._ref_i_ampa)\n",
    "inmda = h.Vector().record(syn._ref_i_nmda)\n",
    "netcon = h.NetCon(Pyr.soma[0](0.5)._ref_v, syn,10, 0.8, 1,sec=Pyr.soma[0])\n",
    "\n",
    "h.dt=0.1\n",
    "h.L = 20\n",
    "h.finitialize(-63)\n",
    "\n",
    "h.continuerun(tstop)\n",
    "\n",
    "vPyr = np.array(vPyr)\n",
    "vAAC = np.array(vAAC)\n",
    "iampa = np.array(iampa)\n",
    "inmda = np.array(inmda)\n",
    "\n",
    "time = np.linspace(0,tstop,int(tstop/h.dt )+1)#+1 for some reason\n",
    "ICLAMP = np.zeros(len(time))\n",
    "ICLAMP[int(iclamp.delay/h.dt):int(iclamp.delay/h.dt+iclamp.dur)] = iclamp.amp"
   ]
  },
  {
   "cell_type": "code",
   "execution_count": null,
   "id": "0ae41693-99dc-4aa0-9800-f94c9ab09c88",
   "metadata": {},
   "outputs": [],
   "source": [
    "plt.figure(figsize=(15,5))\n",
    "plt.plot(time,vPyr,label='Pyr')\n",
    "plt.plot(time,vAAC,label='AAC')\n",
    "\n",
    "#plt.plot(time,inmda*100,label='inmda*100')\n",
    "#plt.plot(time,iampa*100,label='iampa*100')\n",
    "#plt.xlim([90,140])\n",
    "plt.ylabel('mv and uS')\n",
    "plt.title('Pyr -> AAC by AMPA and NMDA')\n",
    "plt.legend()"
   ]
  },
  {
   "cell_type": "code",
   "execution_count": null,
   "id": "fb718dd5-6186-4089-bbca-db25f854c159",
   "metadata": {},
   "outputs": [],
   "source": [
    "plt.figure(figsize=(15,5))\n",
    "plt.plot(time,inmda,label='inmda')\n",
    "plt.plot(time,iampa,label='iampa')\n",
    "#plt.plot(time,ICLAMP,label='iclamp')\n",
    "plt.ylabel('nA')\n",
    "plt.xlabel('ms')\n",
    "plt.title('Pyr->AAC')\n",
    "plt.legend()"
   ]
  },
  {
   "cell_type": "code",
   "execution_count": null,
   "id": "15d4772c-cc47-4251-85f0-51195c7dcf75",
   "metadata": {},
   "outputs": [],
   "source": []
  },
  {
   "cell_type": "code",
   "execution_count": null,
   "id": "b2d31c02-5426-4424-81c9-5d2fc2ca4147",
   "metadata": {},
   "outputs": [],
   "source": []
  },
  {
   "cell_type": "code",
   "execution_count": null,
   "id": "189603f9-1251-456d-9ce7-1eb318e7b544",
   "metadata": {},
   "outputs": [],
   "source": []
  },
  {
   "cell_type": "code",
   "execution_count": null,
   "id": "fdf4fdf8-0efb-4cc6-b9de-011acbffced8",
   "metadata": {},
   "outputs": [],
   "source": [
    "secList = []\n",
    "for sec in h.allsec(Pyr):\n",
    "    #print(sec)\n",
    "    for seg in sec.allseg():\n",
    "        secList.append(seg)\n",
    "        print(seg)\n",
    "secList = [str(item) for item in secList]\n"
   ]
  },
  {
   "cell_type": "code",
   "execution_count": null,
   "id": "b071b794-0919-415b-b938-ca4f81c76d05",
   "metadata": {},
   "outputs": [],
   "source": [
    "secList = secList[:secList.index('axoaxoniccell[0].soma[0](0)')]\n",
    "#secList.index('pyramidalcell[1].axon[6](0.5)')"
   ]
  },
  {
   "cell_type": "code",
   "execution_count": null,
   "id": "3e012584-1268-4413-9443-e95751da06bd",
   "metadata": {},
   "outputs": [],
   "source": [
    "secList"
   ]
  },
  {
   "cell_type": "code",
   "execution_count": null,
   "id": "d401b39a-043d-4394-bfb4-790f3caa21c0",
   "metadata": {},
   "outputs": [],
   "source": [
    "count = 0\n",
    "for i in secList:\n",
    "    if '(1)' in i:\n",
    "        if 'axon' not in i:\n",
    "            count+=1\n",
    "count"
   ]
  },
  {
   "cell_type": "code",
   "execution_count": null,
   "id": "925b5025-6b6c-4c4d-802e-7b041de41da3",
   "metadata": {},
   "outputs": [],
   "source": [
    "Pyr.all.printnames()"
   ]
  },
  {
   "cell_type": "code",
   "execution_count": null,
   "id": "9f87ae49-b3cd-4de4-bf8b-1101b7df459b",
   "metadata": {},
   "outputs": [],
   "source": [
    "Pyr.soma[0].psection()"
   ]
  },
  {
   "cell_type": "code",
   "execution_count": null,
   "id": "d32b44ca-c76b-4cd7-a46e-505121206977",
   "metadata": {},
   "outputs": [],
   "source": [
    "Pyr.soma[0].gmax_ch_HCNp"
   ]
  },
  {
   "cell_type": "markdown",
   "id": "b5b7612c-b59a-44b5-98ff-e65484f78df7",
   "metadata": {},
   "source": [
    "# test for facilitation"
   ]
  },
  {
   "cell_type": "code",
   "execution_count": null,
   "id": "2af97d1e-feef-4c05-93e1-143c43bee79e",
   "metadata": {},
   "outputs": [],
   "source": [
    "Pyr = h.pyramidalcell()\n",
    "AAC = h.axoaxoniccell()\n",
    "\n",
    "#Pyr.soma[0].gmax_ch_HCNp = 0\n",
    "\n",
    "iclamp = h.IClamp(Pyr.axon[6](0.5))\n",
    "iclamp.delay = 100\n",
    "iclamp.dur = 15\n",
    "iclamp.amp = 0.6\n",
    "\n",
    "\n",
    "vPyr = h.Vector().record(Pyr.soma[0](0.5)._ref_v)\n",
    "vPyrAxon = h.Vector().record(Pyr.axon[6](0.5)._ref_v)\n",
    "vAAC = h.Vector().record(AAC.soma[0](0.5)._ref_v)\n",
    "vPyrapical = h.Vector().record(Pyr.apical[0](0.5)._ref_v)\n",
    "\n",
    "\n",
    "syn = h.pyr2int(AAC.soma[0](0.5))\n",
    "#syn = h.ExpGABAab(Pyr.axon[6](0.5))\n",
    "syn.AlphaTmax_ampa =  10.157\n",
    "syn.Beta_ampa = 0.4167\n",
    "syn.Cdur_ampa = 0.713\n",
    "syn.gbar_ampa =  0.001\n",
    "syn.Erev_ampa = 0\n",
    "syn.AlphaTmax_nmda = 0.2659\n",
    "syn.Beta_nmda = 0.008\n",
    "syn.Cdur_nmda = 16.7650#some kind of time constant\n",
    "syn.gbar_nmda = 0.0005\n",
    "syn.Erev_nmda = 0\n",
    "syn.initW = 100\n",
    "#syn.initW_lognormal_mean = 5\n",
    "#syn.initW_lognormal_std = 1.2\n",
    "syn.Wmax = 25\n",
    "syn.Wmin = 0.25\n",
    "#syn.delay = 0.8\n",
    "#syn.con_pattern = 1\n",
    "syn.lambda1 = 8\n",
    "syn.lambda2 = 0.01\n",
    "syn.threshold1 = 0.35\n",
    "syn.threshold2 = 0.4\n",
    "syn.tauD1 = 4#40\n",
    "syn.d1 = 0.95\n",
    "syn.tauD2 = 1#70\n",
    "syn.d2 = 0.9\n",
    "syn.tauF = 5#45\n",
    "syn.f = 1\n",
    "syn.bACH = 0\n",
    "syn.aDA = 1\n",
    "syn.bDA = 0\n",
    "syn.wACH = 0\n",
    "#syn.ratio = 0.05\n",
    "#syn.gaussa = 0\n",
    "\n",
    "iAMPA = h.Vector().record(syn._ref_i_ampa)\n",
    "iNMDA = h.Vector().record(syn._ref_i_nmda)\n",
    "#isyn= h.Vector().record(syn._ref_i)\n",
    "ffactor = h.Vector().record(syn._ref_facfactor)\n",
    "netcon = h.NetCon(Pyr.apical[0](0.5)._ref_v, syn,10, 0.8, 10,sec=Pyr.apical[0])\n",
    "\n",
    "h.dt=0.1\n",
    "h.L = 20\n",
    "h.finitialize(-63)\n",
    "h.continuerun(300)\n",
    "\n",
    "vPyr = np.array(vPyr)\n",
    "vAAC = np.array(vAAC)\n",
    "vPyrapical = np.array(vPyrapical)\n",
    "iAMPA = np.array(iAMPA)\n",
    "iNMDA = np.array(iNMDA)\n"
   ]
  },
  {
   "cell_type": "code",
   "execution_count": null,
   "id": "5e93405a-ae31-4709-81b3-e42cc0e02dfd",
   "metadata": {},
   "outputs": [],
   "source": [
    "time = np.arange(0,300.1,0.1)\n",
    "plt.plot(time,vAAC,label = 'AAC')\n",
    "plt.plot(time,vPyr,label='Pyr')\n",
    "plt.legend()\n"
   ]
  },
  {
   "cell_type": "code",
   "execution_count": null,
   "id": "14261651-9139-444e-b9b9-f42ee28a4196",
   "metadata": {},
   "outputs": [],
   "source": [
    "plt.figure(figsize=(20,10))\n",
    "plt.xlim([100,160])\n",
    "plt.plot(time,iAMPA,label = 'ampa')\n",
    "plt.plot(time,iNMDA,label = 'nmda')\n",
    "\n",
    "plt.legend()"
   ]
  },
  {
   "cell_type": "code",
   "execution_count": null,
   "id": "d00eb6b9-8ae3-4635-aaab-fdbbf60f3071",
   "metadata": {},
   "outputs": [],
   "source": [
    "plt.plot(time,ffactor)"
   ]
  },
  {
   "cell_type": "code",
   "execution_count": null,
   "id": "50a41933-11c1-468a-bc44-645ae18335f4",
   "metadata": {},
   "outputs": [],
   "source": []
  },
  {
   "cell_type": "code",
   "execution_count": null,
   "id": "767fd59e-2868-4d0b-91ea-4ddda0098cb7",
   "metadata": {},
   "outputs": [],
   "source": [
    "plt.plot(time,iNMDA)"
   ]
  },
  {
   "cell_type": "code",
   "execution_count": null,
   "id": "86c3d39a-2cc6-4c9d-819b-bb27226c9a06",
   "metadata": {},
   "outputs": [],
   "source": []
  },
  {
   "cell_type": "code",
   "execution_count": null,
   "id": "99df1e6b-68d0-4066-9f14-2e92d2b6d6a3",
   "metadata": {},
   "outputs": [],
   "source": []
  },
  {
   "cell_type": "code",
   "execution_count": null,
   "id": "9c4a9d4e-4706-4e97-945d-9f6e766c1a48",
   "metadata": {},
   "outputs": [],
   "source": []
  },
  {
   "cell_type": "code",
   "execution_count": null,
   "id": "23cb7956-2292-4d11-96ce-c21e52e67e57",
   "metadata": {},
   "outputs": [],
   "source": [
    "    \"AlphaTmax_ampa\": \"10.1571\",\n",
    "    \"Beta_ampa\": \"0.4167\",\n",
    "    \"Cdur_ampa\": \"0.713\",\n",
    "    \"gbar_ampa\": \"0.001\",\n",
    "    \"Erev_ampa\": \"0\",\n",
    "    \"AlphaTmax_nmda\": \"0.2659\",\n",
    "    \"Beta_nmda\": \"0.008\",\n",
    "    \"Cdur_nmda\": \"16.7650\",\n",
    "    \"gbar_nmda\": \"0.0005\",\n",
    "    \"Erev_nmda\": \"0\",\n",
    "    \"initW\": \"1\",\n",
    "    \"initW_lognormal_mean\": 5,\n",
    "    \"initW_lognormal_std\": 1.2,\n",
    "    \"Wmax\": \"25\",\n",
    "    \"Wmin\": \"0.25\",\n",
    "    \"delay\": \"0.8\",\n",
    "    \"con_pattern\": \"1\",\n",
    "    \"lambda1\": \"8\",\n",
    "    \"lambda2\": \"0.01\",\n",
    "    \"threshold1\": \"0.35\",\n",
    "    \"threshold2\": \"0.4\",\n",
    "    \"tauD1\": \"40\",\n",
    "    \"d1\": \"0.95\",\n",
    "    \"tauD2\": \"70\",\n",
    "    \"d2\": \"0.9\",\n",
    "    \"tauF\": \"45\",\n",
    "    \"f\": \"1\",\n",
    "    \"bACH\": \"0\",\n",
    "    \"aDA\": \"1\",\n",
    "    \"bDA\": \"0\",\n",
    "    \"wACH\": \"0\",\n",
    "    \"ratio\": \"0.05\",\n",
    "    \"gaussa\": \"0\""
   ]
  },
  {
   "cell_type": "code",
   "execution_count": null,
   "id": "69c64560-1d7e-4dbf-bb30-ce6dee4d3eb2",
   "metadata": {},
   "outputs": [],
   "source": []
  },
  {
   "cell_type": "code",
   "execution_count": null,
   "id": "958ba7c2-c850-4e66-92a5-d01e02b0d349",
   "metadata": {},
   "outputs": [],
   "source": []
  },
  {
   "cell_type": "markdown",
   "id": "2302441e-7c16-4389-8bf4-7a198a621371",
   "metadata": {},
   "source": [
    "# bmtk's synapse()"
   ]
  },
  {
   "cell_type": "code",
   "execution_count": null,
   "id": "a1a169a7-3891-48fa-a5cb-c35e4f8bca8a",
   "metadata": {},
   "outputs": [],
   "source": [
    "\n",
    "m = 6#syn_params.get('initW_lognormal_mean')\n",
    "s = 0#syn_params.get('initW_lognormal_std')\n",
    "mean = np.log(m) - 0.5 * np.log((s/m)**2+1)\n",
    "std = np.sqrt(np.log((s/m)**2 + 1))\n",
    "log_weight = float(np.random.lognormal(mean,std, 1))\n",
    "if log_weight >= float(5*m):\n",
    "    log_weight = float(5*m)\n",
    "float(log_weight) # par.x(0) * rC.uniform(0.5,1.0)//rand.normal(0.5,1.5) //`rand.repick()"
   ]
  },
  {
   "cell_type": "code",
   "execution_count": null,
   "id": "2bac018d-f959-432a-9182-3bc85a3da6d9",
   "metadata": {},
   "outputs": [],
   "source": [
    "Pyr.NumBasal"
   ]
  },
  {
   "cell_type": "code",
   "execution_count": null,
   "id": "47ea1459-de5a-4be8-9512-c9245974c8b0",
   "metadata": {},
   "outputs": [],
   "source": [
    "Pyr.NumSoma"
   ]
  },
  {
   "cell_type": "code",
   "execution_count": null,
   "id": "92922ec7-429e-418b-b6f4-cbf4c204a9cd",
   "metadata": {},
   "outputs": [],
   "source": [
    "dir(Pyr)"
   ]
  },
  {
   "cell_type": "code",
   "execution_count": null,
   "id": "2d81b719-f68b-4169-86b4-e5d5b2ed631d",
   "metadata": {},
   "outputs": [],
   "source": [
    "secList.index('pyramidalcell[0].axon[6](0.5)')"
   ]
  },
  {
   "cell_type": "code",
   "execution_count": null,
   "id": "7f5ff346-0931-4341-bbf3-695a5f4c97ac",
   "metadata": {},
   "outputs": [],
   "source": [
    "Pyr.axon[6].psection()"
   ]
  },
  {
   "cell_type": "code",
   "execution_count": null,
   "id": "4107c676-3ec4-43b2-a8aa-af3c8056d58d",
   "metadata": {},
   "outputs": [],
   "source": [
    "len(secList)"
   ]
  },
  {
   "cell_type": "code",
   "execution_count": null,
   "id": "e36329af-2950-4dee-a43a-dbdd674898f0",
   "metadata": {},
   "outputs": [],
   "source": [
    "secList.index('pyramidalcell[1].axon[6](0.5)')"
   ]
  },
  {
   "cell_type": "code",
   "execution_count": null,
   "id": "7403b34c-df77-4139-a26f-f154db596fc6",
   "metadata": {},
   "outputs": [],
   "source": [
    "mt = h.MechanismType(0)\n",
    "mt1 = h.MechanismType(1)"
   ]
  },
  {
   "cell_type": "code",
   "execution_count": null,
   "id": "65c0a753-03f7-4c49-b066-a67863cd0af9",
   "metadata": {},
   "outputs": [],
   "source": [
    "mname  = h.ref('')\n",
    "for i in range(mt1.count()):\n",
    "    mt1.select(i)\n",
    "    mt1.selected(mname)\n",
    "    print(mname[0])"
   ]
  },
  {
   "cell_type": "code",
   "execution_count": null,
   "id": "7e28ee0d-52f2-463f-9c2b-2a880d90b957",
   "metadata": {},
   "outputs": [],
   "source": [
    "mname  = h.ref('')\n",
    "for i in range(mt.count()):\n",
    "    mt.select(i)\n",
    "    mt.selected(mname)\n",
    "    print(mname[0])"
   ]
  },
  {
   "cell_type": "code",
   "execution_count": null,
   "id": "ba6bcb70-6acf-4a5d-a735-ce14c13f7881",
   "metadata": {},
   "outputs": [],
   "source": [
    "dir(mt)"
   ]
  },
  {
   "cell_type": "markdown",
   "id": "db5828f8-7589-4cb8-879f-98e9d2318853",
   "metadata": {},
   "source": [
    "# testing"
   ]
  },
  {
   "cell_type": "code",
   "execution_count": null,
   "id": "240c5b7d-7465-432e-ac69-603d12e81dab",
   "metadata": {},
   "outputs": [],
   "source": [
    "h.topology()"
   ]
  },
  {
   "cell_type": "code",
   "execution_count": null,
   "id": "859c2584-7f45-4d04-a0e0-dbbeb761e66c",
   "metadata": {},
   "outputs": [],
   "source": []
  },
  {
   "cell_type": "code",
   "execution_count": null,
   "id": "85851822-9899-4480-ada5-7e127ecb5dbe",
   "metadata": {},
   "outputs": [],
   "source": [
    "myCell.soma[0].children()"
   ]
  },
  {
   "cell_type": "code",
   "execution_count": null,
   "id": "280211b4-c264-4670-8b23-0b21e64263f5",
   "metadata": {},
   "outputs": [],
   "source": [
    "myCell.axon[0].psection()"
   ]
  },
  {
   "cell_type": "code",
   "execution_count": null,
   "id": "2f5bf799-ad92-4412-8822-c189016f71fe",
   "metadata": {},
   "outputs": [],
   "source": [
    "#AAC = eval(callNames[0])\n",
    "Pyr = h.pyramidalcell()\n"
   ]
  },
  {
   "cell_type": "code",
   "execution_count": null,
   "id": "e47b800a-2a2d-4d13-82b0-a98200f383f6",
   "metadata": {},
   "outputs": [],
   "source": [
    "for item in Pyr.axon[0].allseg():\n",
    "    print(item)"
   ]
  },
  {
   "cell_type": "code",
   "execution_count": null,
   "id": "47b0c865-a1b3-4dd1-a08a-14c929b1bf64",
   "metadata": {},
   "outputs": [],
   "source": [
    "channelDict = Pyr.axon[0].psection()"
   ]
  },
  {
   "cell_type": "code",
   "execution_count": null,
   "id": "b6552a5a-cadc-45e2-bbf8-a8f9396695fa",
   "metadata": {},
   "outputs": [],
   "source": [
    "channelDict['ions']['na']"
   ]
  },
  {
   "cell_type": "code",
   "execution_count": null,
   "id": "e39a2ca7-74c3-4a1f-9a26-a8cab80e8067",
   "metadata": {},
   "outputs": [],
   "source": [
    "channelDict"
   ]
  },
  {
   "cell_type": "code",
   "execution_count": null,
   "id": "d95d8fca-1e03-41bf-a821-4a76cb1d12a1",
   "metadata": {},
   "outputs": [],
   "source": [
    "h.psection(sec = Pyr.axon[5])"
   ]
  },
  {
   "cell_type": "code",
   "execution_count": null,
   "id": "2337b64e-1dc0-4674-b1df-84ee7b379697",
   "metadata": {},
   "outputs": [],
   "source": [
    "h.psection(sec = Pyr.soma[0])"
   ]
  },
  {
   "cell_type": "code",
   "execution_count": null,
   "id": "1121920a-28fa-40d9-8658-8a8f6528c7fc",
   "metadata": {},
   "outputs": [],
   "source": [
    "static int _ode_spec1 () {_reset=0;\n",
    " {\n",
    "   DW = 1e-12 * limitW * eta ( _threadargscomma_ capoolcon ) * ( lambda1 * omega ( _threadargscomma_ capoolcon , threshold1 , threshold2 ) - lambda2 * GAP1 ( _threadargscomma_ GAPstart1 , GAPstop1 ) * W ) ;\n",
    "   Dr_gaba = AlphaTmax_gaba * on_gaba * ( 1.0 - r_gaba ) - Beta_gaba * r_gaba ;\n",
    "   Dcapoolcon = - fCag * Afactor * Icatotal + ( Cainf - capoolcon ) / tauCa ;\n",
    "   }\n",
    " return _reset;\n",
    "}\n",
    " static int _ode_matsol1 () {\n",
    " DW = DW  / (1. - dt*( ( 1e-12 * limitW * eta ( _threadargscomma_ capoolcon ) )*( ( ( - ( lambda2 * GAP1 ( _threadargscomma_ GAPstart1 , GAPstop1 ) )*( 1.0 ) ) ) ) )) ;\n",
    " Dr_gaba = Dr_gaba  / (1. - dt*( ( AlphaTmax_gaba * on_gaba )*( ( ( - 1.0 ) ) ) - ( Beta_gaba )*( 1.0 ) )) ;\n",
    " Dcapoolcon = Dcapoolcon  / (1. - dt*( ( ( ( - 1.0 ) ) ) / tauCa )) ;\n",
    "  return 0;\n",
    "}\n",
    " /*END CVODE*/\n",
    " static int release () {_reset=0;\n",
    " {\n",
    "    W = W + (1. - exp(dt*(( 1e-12 * limitW * eta ( _threadargscomma_ capoolcon ) )*( ( ( - ( lambda2 * GAP1 ( _threadargscomma_ GAPstart1 , GAPstop1 ) )*( 1.0 ) ) ) ))))*(- ( ( ( ( 1e-12 )*( limitW ) )*( eta ( _threadargscomma_ capoolcon ) ) )*( ( ( lambda1 )*( omega ( _threadargscomma_ capoolcon , threshold1 , threshold2 ) ) ) ) ) / ( ( ( ( 1e-12 )*( limitW ) )*( eta ( _threadargscomma_ capoolcon ) ) )*( ( ( - ( ( lambda2 )*( GAP1 ( _threadargscomma_ GAPstart1 , GAPstop1 ) ) )*( 1.0 ) ) ) ) ) - W) ;\n",
    "    r_gaba = r_gaba + (1. - exp(dt*(( AlphaTmax_gaba * on_gaba )*( ( ( - 1.0 ) ) ) - ( Beta_gaba )*( 1.0 ))))*(- ( ( ( AlphaTmax_gaba )*( on_gaba ) )*( ( 1.0 ) ) ) / ( ( ( AlphaTmax_gaba )*( on_gaba ) )*( ( ( - 1.0 ) ) ) - ( Beta_gaba )*( 1.0 ) ) - r_gaba) ;\n",
    "    capoolcon = capoolcon + (1. - exp(dt*(( ( ( - 1.0 ) ) ) / tauCa)))*(- ( ( ( - fCag )*( Afactor ) )*( Icatotal ) + ( ( Cainf ) ) / tauCa ) / ( ( ( ( - 1.0 ) ) ) / tauCa ) - capoolcon) ;\n",
    "   }\n",
    "  return 0;\n",
    "}"
   ]
  },
  {
   "cell_type": "code",
   "execution_count": null,
   "id": "9a9ac58a-effe-47ab-a56c-0b62d866fe43",
   "metadata": {},
   "outputs": [],
   "source": [
    "#using a synapse"
   ]
  },
  {
   "cell_type": "code",
   "execution_count": null,
   "id": "94d8b73e-3d05-42c0-9a91-07ee471fc9de",
   "metadata": {},
   "outputs": [],
   "source": [
    "Pyr.axon[0](1).ri()"
   ]
  },
  {
   "cell_type": "code",
   "execution_count": null,
   "id": "600c1488-e36a-4dce-b0a3-f6dc335b13e8",
   "metadata": {},
   "outputs": [],
   "source": [
    "Pyr.soma[0](1).ri()"
   ]
  },
  {
   "cell_type": "code",
   "execution_count": 1,
   "id": "3d1953cf-1502-4410-9030-be50d2faa1b4",
   "metadata": {},
   "outputs": [],
   "source": [
    "import numpy as np\n",
    "from neuron import h\n",
    "import os\n",
    "import matplotlib.pyplot as plt\n",
    "import pandas as pd\n",
    "import json\n",
    "from scipy.signal import find_peaks\n",
    "#from scipy.optimize import curve_fit\n",
    "#do not rerun\n",
    "h.load_file('stdrun.hoc')\n",
    "#h.nrn_load_dll(os.path.join(\"biophys_components\",\"mechanisms\",\"modfiles\",\"nrnmech.dll\"))\n",
    "h.nrn_load_dll(os.path.join(\"biophys_components\",\"mechanisms\",\"modfiles\",\"x86_64\",\".libs\",\"libnrnmech.so\"))\n",
    "#fileList = ['class_pyramidalcell_original_modified.hoc','class_axoaxoniccell.hoc']\n",
    "fileList = ['class_pyramidalcell.hoc','class_axoaxoniccell.hoc','class_pvbasketcell.hoc','class_olmcell.hoc']\n",
    "#fileList = ['class_pyramidalcell.hoc']\n",
    "#for each file, load it into the hoc interpreter so it can be accessed\n",
    "for item in fileList:\n",
    "    h.load_file(os.path.join(\"biophys_components\",\"templates\",item))\n",
    "callNames = [\"h.\" + fileList[i].split('_')[1].split('.')[0] + \"()\" for i in range(len(fileList))]\n",
    "callNames.sort()\n",
    "\n",
    "for i in range(len(callNames)):\n",
    "    myCell = eval(callNames[i])\n",
    "#     for sec in h.allsec(myCell):\n",
    "#         print(sec)"
   ]
  },
  {
   "cell_type": "markdown",
   "id": "3bb166c8-a182-46fd-b999-d6d6df98b190",
   "metadata": {},
   "source": [
    "### Pyr->CHN\n",
    "### Pyr->PV\n",
    "###  PV->CHN\n"
   ]
  },
  {
   "cell_type": "code",
   "execution_count": 10,
   "id": "4c043046-0c5e-45fc-b591-2af374f13481",
   "metadata": {},
   "outputs": [
    {
     "data": {
      "image/png": "[encoded data removed]",
      "text/plain": [
       "<Figure size 432x288 with 1 Axes>"
      ]
     },
     "metadata": {
      "needs_background": "light"
     },
     "output_type": "display_data"
    }
   ],
   "source": [
    "Pyr = h.pyramidalcell()\n",
    "AAC = h.axoaxoniccell()\n",
    "PV = h.pvbasketcell()\n",
    "\n",
    "tstop = 2000\n",
    "dt = 0.1\n",
    "#Pyr.soma[0].gmax_ch_HCNp = 0\n",
    "\n",
    "iclamp = h.IClamp(Pyr.axon[6](0.5))\n",
    "iclamp.delay = 100\n",
    "iclamp.dur = 8\n",
    "iclamp.amp = 0.6\n",
    "\n",
    "\n",
    "vPyr = h.Vector().record(Pyr.soma[0](0.5)._ref_v)\n",
    "vAAC = h.Vector().record(AAC.soma[0](0.5)._ref_v)\n",
    "vPV = h.Vector().record(PV.soma[0](0.5)._ref_v)\n",
    "\n",
    "syn = h.pyr2int(AAC.soma[0](0.5))\n",
    "syn_pyr2pv = h.pyr2int(PV.soma[0](0.5))\n",
    "syn_pv2chn = h.int2int(AAC.soma[0](0.5))\n",
    "syn_chn2pyr = h.chn2pyr(Pyr.axon[6](0.5))\n",
    "\n",
    "netcon = h.NetCon(Pyr.apical[0](0.5)._ref_v, syn,10, 0.8, 10,sec=Pyr.apical[0])\n",
    "netcon_pyr2pv = h.NetCon(Pyr.soma[0](0.5)._ref_v, syn_pyr2pv,10, 0.8, 10,sec=Pyr.soma[0])\n",
    "netcon_pv2chn = h.NetCon(PV.soma[0](0.5)._ref_v, syn_pv2chn,10,0.8,10,sec=PV.soma[0])\n",
    "netcon_chn2pyr = h.NetCon(AAC.soma[0](0.5)._ref_v, syn_chn2pyr,10,0.8,10,sec=AAC.soma[0])\n",
    "\n",
    "syn.gmax = 2\n",
    "syn.initW = 0.02\n",
    "syn.tau_d_NMDA= 200\n",
    "syn.tau_r_NMDA= 1.5\n",
    "syn.tau_d_AMPA=1.7\n",
    "syn.tau_r_AMPA = 1.5\n",
    "\n",
    "\n",
    "syn_pyr2pv.gmax = 0.02\n",
    "syn_pyr2pv.initW = 1\n",
    "syn_pyr2pv.tau_d_NMDA= 20\n",
    "syn_pyr2pv.tau_r_NMDA= 1.5\n",
    "\n",
    "syn_pv2chn.gmax = 0.04\n",
    "syn_pv2chn.initW = 4\n",
    "syn_pv2chn.tau_d_GABAA= 64\n",
    "syn_pv2chn.tau_r_GABAA= 1.5\n",
    "\n",
    "syn_chn2pyr.gmax = 0.00285\n",
    "syn_chn2pyr.initW = 0.015\n",
    "syn_chn2pyr.tau_r_GABAA = 1.5\n",
    "syn_chn2pyr.tau_d_GABAA = 100\n",
    "\n",
    "\n",
    "\n",
    "\n",
    "\n",
    "\n",
    "h.dt=dt\n",
    "h.L = 20\n",
    "h.finitialize(-63)\n",
    "h.continuerun(tstop)\n",
    "\n",
    "vPyr = np.array(vPyr)\n",
    "vAAC = np.array(vAAC)\n",
    "vPV = np.array(vPV)\n",
    "\n",
    "time = np.arange(0,tstop+dt,dt)\n",
    "plt.plot(time,vPyr,label='Pyr')\n",
    "plt.plot(time,vAAC,label='AAC')\n",
    "plt.plot(time,vPV,label='PV')\n",
    "plt.legend()\n",
    "plt.show()"
   ]
  },
  {
   "cell_type": "markdown",
   "id": "b3124949-be41-4572-9f1d-775550630bfe",
   "metadata": {},
   "source": [
    "# OLM Mechanism"
   ]
  },
  {
   "cell_type": "code",
   "execution_count": 2,
   "id": "6f200884-af8e-4a14-8c58-31f37031a4d8",
   "metadata": {},
   "outputs": [
    {
     "data": {
      "image/png": "[encoded data removed]",
      "text/plain": [
       "<Figure size 432x288 with 1 Axes>"
      ]
     },
     "metadata": {
      "needs_background": "light"
     },
     "output_type": "display_data"
    }
   ],
   "source": [
    "Pyr = h.pyramidalcell()\n",
    "OLM = h.olmcell()\n",
    "OLM2 = h.olmcell()\n",
    "\n",
    "tstop = 1000\n",
    "dt = 0.1\n",
    "#Pyr.soma[0].gmax_ch_HCNp = 0\n",
    "\n",
    "iclamp = h.IClamp(OLM.soma[0](0.5))\n",
    "iclamp.delay = 100\n",
    "iclamp.dur = 5\n",
    "iclamp.amp = 1\n",
    "\n",
    "\n",
    "vPyr = h.Vector().record(Pyr.soma[0](0.5)._ref_v)\n",
    "#vAAC = h.Vector().record(AAC.soma[0](0.5)._ref_v)\n",
    "vOLM = h.Vector().record(OLM.soma[0](0.5)._ref_v)\n",
    "vOLM2 = h.Vector().record(OLM2.soma[0](0.5)._ref_v)\n",
    "\n",
    "\n",
    "#syn = h.pyr2int(OLM.soma[0](0.5))\n",
    "syn_olm2pyr = h.int2pyr(Pyr.apical[0](0.5))\n",
    "syn_pyr2olm = h.pyr2int(OLM.dend[1](0.5))\n",
    "syn_olm2olm = h.int2int(OLM.dend[0](0.5))\n",
    "syn_pyr2olm2 = h.pyr2int(OLM2.dend[1](0.5))\n",
    "syn_olm2olm2 = h.int2int(OLM2.dend[0](0.5))\n",
    "\n",
    "#netcon = h.NetCon(OLM.soma[0](0.5)._ref_v, syn,10, 0.8, 10,sec=Pyr.apical[0])\n",
    "netcon_olm2pyr = h.NetCon(OLM.soma[0](0.5)._ref_v, syn_olm2pyr,-20, 0.8, 10,sec=OLM.soma[0])\n",
    "netcon_pyr2olm = h.NetCon(Pyr.soma[0](0.5)._ref_v, syn_pyr2olm, 10, 0.8, 10, sec = Pyr.soma[0])\n",
    "netcon_olm2olm = h.NetCon(OLM2.soma[0](0.5)._ref_v, syn_olm2olm,-20, 0.8, 10,sec=OLM2.soma[0])\n",
    "netcon_pyr2olm2 = h.NetCon(Pyr.soma[0](0.5)._ref_v, syn_pyr2olm2, 10, 0.8, 10, sec = Pyr.soma[0])\n",
    "netcon_olm2olm2 = h.NetCon(OLM.soma[0](0.5)._ref_v, syn_olm2olm2,-20, 0.8, 10,sec=OLM.soma[0])\n",
    "\n",
    "#olm1->pyr\n",
    "syn_olm2pyr.gmax = 10\n",
    "syn_olm2pyr.initW = 1\n",
    "syn_olm2pyr.tau_d_GABAA= 11\n",
    "syn_olm2pyr.tau_r_GABAA= 1\n",
    "\n",
    "#pyr->olm1\n",
    "syn_pyr2olm.gmax = 0.005\n",
    "syn_pyr2olm.initW = 1\n",
    "syn_pyr2olm.tau_d_NMDA= 150\n",
    "syn_pyr2olm.tau_r_NMDA= 1\n",
    "\n",
    "#olm2 -> olm1\n",
    "syn_olm2olm.gmax = 0.1\n",
    "syn_olm2olm.initW = 1\n",
    "syn_olm2olm.tau_d_GABAA= 10\n",
    "syn_olm2olm.tau_r_GABAA= 1\n",
    "\n",
    "#pyr->olm2\n",
    "syn_pyr2olm2.gmax = 0.008\n",
    "syn_pyr2olm2.initW = 1\n",
    "syn_pyr2olm2.tau_d_NMDA= 40\n",
    "syn_pyr2olm2.tau_r_NMDA= 1\n",
    "\n",
    "#olm1->olm2\n",
    "syn_olm2olm2.gmax = 0.004\n",
    "syn_olm2olm2.initW = 0.1\n",
    "syn_olm2olm2.tau_d_GABAA= 50\n",
    "syn_olm2olm2.tau_r_GABAA= 1\n",
    "\n",
    "\n",
    "h.dt=dt\n",
    "h.L = 20\n",
    "h.finitialize(-63)\n",
    "h.continuerun(tstop)\n",
    "\n",
    "vPyr = np.array(vPyr)\n",
    "vOLM = np.array(vOLM)\n",
    "vOLM2 = np.array(vOLM2)\n",
    "\n",
    "time = np.arange(0,tstop+dt,dt)\n",
    "plt.plot(time,vPyr,label='Pyr')\n",
    "plt.plot(time,vOLM,label='OLM')\n",
    "plt.plot(time,vOLM2,label='OLM2')\n",
    "plt.legend()\n",
    "plt.show()"
   ]
  },
  {
   "cell_type": "code",
   "execution_count": null,
   "id": "6125827c-2ff2-427f-8494-356d8bbc1a3c",
   "metadata": {},
   "outputs": [],
   "source": [
    "h.topology(OLM)"
   ]
  },
  {
   "cell_type": "code",
   "execution_count": null,
   "id": "aadbe2c3-8e06-41f2-b632-e75f64b3a808",
   "metadata": {},
   "outputs": [],
   "source": []
  }
 ],
 "metadata": {
  "kernelspec": {
   "display_name": "Python 3",
   "language": "python",
   "name": "python3"
  },
  "language_info": {
   "codemirror_mode": {
    "name": "ipython",
    "version": 3
   },
   "file_extension": ".py",
   "mimetype": "text/x-python",
   "name": "python",
   "nbconvert_exporter": "python",
   "pygments_lexer": "ipython3",
   "version": "3.6.8"
  }
 },
 "nbformat": 4,
 "nbformat_minor": 5
}
